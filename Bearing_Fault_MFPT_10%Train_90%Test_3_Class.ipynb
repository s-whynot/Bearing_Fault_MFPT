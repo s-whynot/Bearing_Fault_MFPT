{
  "nbformat": 4,
  "nbformat_minor": 0,
  "metadata": {
    "colab": {
      "name": "Transfer_Learning_3_Class_Bearing_Fault_MFPT.ipynb",
      "provenance": [],
      "collapsed_sections": [],
      "toc_visible": true,
      "include_colab_link": true
    },
    "kernelspec": {
      "name": "python3",
      "display_name": "Python 3"
    },
    "accelerator": "GPU",
    "widgets": {
      "application/vnd.jupyter.widget-state+json": {
        "state":{},
        "09100ec0e8b1438899974684a1b891c6": {
          "model_module": "@jupyter-widgets/controls",
          "model_name": "HBoxModel",
          "state": {
            "_view_name": "HBoxView",
            "_dom_classes": [],
            "_model_name": "HBoxModel",
            "_view_module": "@jupyter-widgets/controls",
            "_model_module_version": "1.5.0",
            "_view_count": null,
            "_view_module_version": "1.5.0",
            "box_style": "",
            "layout": "IPY_MODEL_fa8047f7a3224e808c045629e4d38190",
            "_model_module": "@jupyter-widgets/controls",
            "children": [
              "IPY_MODEL_4ec441a68cef4b81b7de255d551758fa",
              "IPY_MODEL_6d28a8963bb64cffa8e83cb48834dae5"
            ]
          }
        },
        "fa8047f7a3224e808c045629e4d38190": {
          "model_module": "@jupyter-widgets/base",
          "model_name": "LayoutModel",
          "state": {
            "_view_name": "LayoutView",
            "grid_template_rows": null,
            "right": null,
            "justify_content": null,
            "_view_module": "@jupyter-widgets/base",
            "overflow": null,
            "_model_module_version": "1.2.0",
            "_view_count": null,
            "flex_flow": null,
            "width": null,
            "min_width": null,
            "border": null,
            "align_items": null,
            "bottom": null,
            "_model_module": "@jupyter-widgets/base",
            "top": null,
            "grid_column": null,
            "overflow_y": null,
            "overflow_x": null,
            "grid_auto_flow": null,
            "grid_area": null,
            "grid_template_columns": null,
            "flex": null,
            "_model_name": "LayoutModel",
            "justify_items": null,
            "grid_row": null,
            "max_height": null,
            "align_content": null,
            "visibility": null,
            "align_self": null,
            "height": null,
            "min_height": null,
            "padding": null,
            "grid_auto_rows": null,
            "grid_gap": null,
            "max_width": null,
            "order": null,
            "_view_module_version": "1.2.0",
            "grid_template_areas": null,
            "object_position": null,
            "object_fit": null,
            "grid_auto_columns": null,
            "margin": null,
            "display": null,
            "left": null
          }
        },
        "4ec441a68cef4b81b7de255d551758fa": {
          "model_module": "@jupyter-widgets/controls",
          "model_name": "FloatProgressModel",
          "state": {
            "_view_name": "ProgressView",
            "style": "IPY_MODEL_b6fdcc563dd343199eed19487ad72a8e",
            "_dom_classes": [],
            "description": "100%",
            "_model_name": "FloatProgressModel",
            "bar_style": "success",
            "max": 18,
            "_view_module": "@jupyter-widgets/controls",
            "_model_module_version": "1.5.0",
            "value": 18,
            "_view_count": null,
            "_view_module_version": "1.5.0",
            "orientation": "horizontal",
            "min": 0,
            "description_tooltip": null,
            "_model_module": "@jupyter-widgets/controls",
            "layout": "IPY_MODEL_3259733a852e4751bbf9ecf76bd01dd6"
          }
        },
        "6d28a8963bb64cffa8e83cb48834dae5": {
          "model_module": "@jupyter-widgets/controls",
          "model_name": "HTMLModel",
          "state": {
            "_view_name": "HTMLView",
            "style": "IPY_MODEL_1bd80448a43046b6ac0cd0a5d00e133c",
            "_dom_classes": [],
            "description": "",
            "_model_name": "HTMLModel",
            "placeholder": "​",
            "_view_module": "@jupyter-widgets/controls",
            "_model_module_version": "1.5.0",
            "value": " 18/18 [00:06&lt;00:00,  2.83it/s]",
            "_view_count": null,
            "_view_module_version": "1.5.0",
            "description_tooltip": null,
            "_model_module": "@jupyter-widgets/controls",
            "layout": "IPY_MODEL_6d7cdf16636f46ff85802607b50ca869"
          }
        },
        "b6fdcc563dd343199eed19487ad72a8e": {
          "model_module": "@jupyter-widgets/controls",
          "model_name": "ProgressStyleModel",
          "state": {
            "_view_name": "StyleView",
            "_model_name": "ProgressStyleModel",
            "description_width": "initial",
            "_view_module": "@jupyter-widgets/base",
            "_model_module_version": "1.5.0",
            "_view_count": null,
            "_view_module_version": "1.2.0",
            "bar_color": null,
            "_model_module": "@jupyter-widgets/controls"
          }
        },
        "3259733a852e4751bbf9ecf76bd01dd6": {
          "model_module": "@jupyter-widgets/base",
          "model_name": "LayoutModel",
          "state": {
            "_view_name": "LayoutView",
            "grid_template_rows": null,
            "right": null,
            "justify_content": null,
            "_view_module": "@jupyter-widgets/base",
            "overflow": null,
            "_model_module_version": "1.2.0",
            "_view_count": null,
            "flex_flow": null,
            "width": null,
            "min_width": null,
            "border": null,
            "align_items": null,
            "bottom": null,
            "_model_module": "@jupyter-widgets/base",
            "top": null,
            "grid_column": null,
            "overflow_y": null,
            "overflow_x": null,
            "grid_auto_flow": null,
            "grid_area": null,
            "grid_template_columns": null,
            "flex": null,
            "_model_name": "LayoutModel",
            "justify_items": null,
            "grid_row": null,
            "max_height": null,
            "align_content": null,
            "visibility": null,
            "align_self": null,
            "height": null,
            "min_height": null,
            "padding": null,
            "grid_auto_rows": null,
            "grid_gap": null,
            "max_width": null,
            "order": null,
            "_view_module_version": "1.2.0",
            "grid_template_areas": null,
            "object_position": null,
            "object_fit": null,
            "grid_auto_columns": null,
            "margin": null,
            "display": null,
            "left": null
          }
        },
        "1bd80448a43046b6ac0cd0a5d00e133c": {
          "model_module": "@jupyter-widgets/controls",
          "model_name": "DescriptionStyleModel",
          "state": {
            "_view_name": "StyleView",
            "_model_name": "DescriptionStyleModel",
            "description_width": "",
            "_view_module": "@jupyter-widgets/base",
            "_model_module_version": "1.5.0",
            "_view_count": null,
            "_view_module_version": "1.2.0",
            "_model_module": "@jupyter-widgets/controls"
          }
        },
        "6d7cdf16636f46ff85802607b50ca869": {
          "model_module": "@jupyter-widgets/base",
          "model_name": "LayoutModel",
          "state": {
            "_view_name": "LayoutView",
            "grid_template_rows": null,
            "right": null,
            "justify_content": null,
            "_view_module": "@jupyter-widgets/base",
            "overflow": null,
            "_model_module_version": "1.2.0",
            "_view_count": null,
            "flex_flow": null,
            "width": null,
            "min_width": null,
            "border": null,
            "align_items": null,
            "bottom": null,
            "_model_module": "@jupyter-widgets/base",
            "top": null,
            "grid_column": null,
            "overflow_y": null,
            "overflow_x": null,
            "grid_auto_flow": null,
            "grid_area": null,
            "grid_template_columns": null,
            "flex": null,
            "_model_name": "LayoutModel",
            "justify_items": null,
            "grid_row": null,
            "max_height": null,
            "align_content": null,
            "visibility": null,
            "align_self": null,
            "height": null,
            "min_height": null,
            "padding": null,
            "grid_auto_rows": null,
            "grid_gap": null,
            "max_width": null,
            "order": null,
            "_view_module_version": "1.2.0",
            "grid_template_areas": null,
            "object_position": null,
            "object_fit": null,
            "grid_auto_columns": null,
            "margin": null,
            "display": null,
            "left": null
          }
        },
        "646fa9c9e76a4617a8e3bdd9c9e66d00": {
          "model_module": "@jupyter-widgets/controls",
          "model_name": "HBoxModel",
          "state": {
            "_view_name": "HBoxView",
            "_dom_classes": [],
            "_model_name": "HBoxModel",
            "_view_module": "@jupyter-widgets/controls",
            "_model_module_version": "1.5.0",
            "_view_count": null,
            "_view_module_version": "1.5.0",
            "box_style": "",
            "layout": "IPY_MODEL_34acc545f1ef4079a276ce8bde979b53",
            "_model_module": "@jupyter-widgets/controls",
            "children": [
              "IPY_MODEL_0c5cd6d7d7c248bf90bda458514b44e9",
              "IPY_MODEL_1d5ed633170c4a21a2f3af9e82d7f498"
            ]
          }
        },
        "34acc545f1ef4079a276ce8bde979b53": {
          "model_module": "@jupyter-widgets/base",
          "model_name": "LayoutModel",
          "state": {
            "_view_name": "LayoutView",
            "grid_template_rows": null,
            "right": null,
            "justify_content": null,
            "_view_module": "@jupyter-widgets/base",
            "overflow": null,
            "_model_module_version": "1.2.0",
            "_view_count": null,
            "flex_flow": null,
            "width": null,
            "min_width": null,
            "border": null,
            "align_items": null,
            "bottom": null,
            "_model_module": "@jupyter-widgets/base",
            "top": null,
            "grid_column": null,
            "overflow_y": null,
            "overflow_x": null,
            "grid_auto_flow": null,
            "grid_area": null,
            "grid_template_columns": null,
            "flex": null,
            "_model_name": "LayoutModel",
            "justify_items": null,
            "grid_row": null,
            "max_height": null,
            "align_content": null,
            "visibility": null,
            "align_self": null,
            "height": null,
            "min_height": null,
            "padding": null,
            "grid_auto_rows": null,
            "grid_gap": null,
            "max_width": null,
            "order": null,
            "_view_module_version": "1.2.0",
            "grid_template_areas": null,
            "object_position": null,
            "object_fit": null,
            "grid_auto_columns": null,
            "margin": null,
            "display": null,
            "left": null
          }
        },
        "0c5cd6d7d7c248bf90bda458514b44e9": {
          "model_module": "@jupyter-widgets/controls",
          "model_name": "FloatProgressModel",
          "state": {
            "_view_name": "ProgressView",
            "style": "IPY_MODEL_7205ff316a7d494b96a41b9026e8fb1e",
            "_dom_classes": [],
            "description": "100%",
            "_model_name": "FloatProgressModel",
            "bar_style": "success",
            "max": 21,
            "_view_module": "@jupyter-widgets/controls",
            "_model_module_version": "1.5.0",
            "value": 21,
            "_view_count": null,
            "_view_module_version": "1.5.0",
            "orientation": "horizontal",
            "min": 0,
            "description_tooltip": null,
            "_model_module": "@jupyter-widgets/controls",
            "layout": "IPY_MODEL_b4790925f116464dbea9dde2dcd0d01a"
          }
        },
        "1d5ed633170c4a21a2f3af9e82d7f498": {
          "model_module": "@jupyter-widgets/controls",
          "model_name": "HTMLModel",
          "state": {
            "_view_name": "HTMLView",
            "style": "IPY_MODEL_6998bd5de1b14dc9b39f56d2ad7c0b95",
            "_dom_classes": [],
            "description": "",
            "_model_name": "HTMLModel",
            "placeholder": "​",
            "_view_module": "@jupyter-widgets/controls",
            "_model_module_version": "1.5.0",
            "value": " 21/21 [00:00&lt;00:00, 88.04it/s]",
            "_view_count": null,
            "_view_module_version": "1.5.0",
            "description_tooltip": null,
            "_model_module": "@jupyter-widgets/controls",
            "layout": "IPY_MODEL_009367cb27dd4e7289450933aed8064a"
          }
        },
        "7205ff316a7d494b96a41b9026e8fb1e": {
          "model_module": "@jupyter-widgets/controls",
          "model_name": "ProgressStyleModel",
          "state": {
            "_view_name": "StyleView",
            "_model_name": "ProgressStyleModel",
            "description_width": "initial",
            "_view_module": "@jupyter-widgets/base",
            "_model_module_version": "1.5.0",
            "_view_count": null,
            "_view_module_version": "1.2.0",
            "bar_color": null,
            "_model_module": "@jupyter-widgets/controls"
          }
        },
        "b4790925f116464dbea9dde2dcd0d01a": {
          "model_module": "@jupyter-widgets/base",
          "model_name": "LayoutModel",
          "state": {
            "_view_name": "LayoutView",
            "grid_template_rows": null,
            "right": null,
            "justify_content": null,
            "_view_module": "@jupyter-widgets/base",
            "overflow": null,
            "_model_module_version": "1.2.0",
            "_view_count": null,
            "flex_flow": null,
            "width": null,
            "min_width": null,
            "border": null,
            "align_items": null,
            "bottom": null,
            "_model_module": "@jupyter-widgets/base",
            "top": null,
            "grid_column": null,
            "overflow_y": null,
            "overflow_x": null,
            "grid_auto_flow": null,
            "grid_area": null,
            "grid_template_columns": null,
            "flex": null,
            "_model_name": "LayoutModel",
            "justify_items": null,
            "grid_row": null,
            "max_height": null,
            "align_content": null,
            "visibility": null,
            "align_self": null,
            "height": null,
            "min_height": null,
            "padding": null,
            "grid_auto_rows": null,
            "grid_gap": null,
            "max_width": null,
            "order": null,
            "_view_module_version": "1.2.0",
            "grid_template_areas": null,
            "object_position": null,
            "object_fit": null,
            "grid_auto_columns": null,
            "margin": null,
            "display": null,
            "left": null
          }
        },
        "6998bd5de1b14dc9b39f56d2ad7c0b95": {
          "model_module": "@jupyter-widgets/controls",
          "model_name": "DescriptionStyleModel",
          "state": {
            "_view_name": "StyleView",
            "_model_name": "DescriptionStyleModel",
            "description_width": "",
            "_view_module": "@jupyter-widgets/base",
            "_model_module_version": "1.5.0",
            "_view_count": null,
            "_view_module_version": "1.2.0",
            "_model_module": "@jupyter-widgets/controls"
          }
        },
        "009367cb27dd4e7289450933aed8064a": {
          "model_module": "@jupyter-widgets/base",
          "model_name": "LayoutModel",
          "state": {
            "_view_name": "LayoutView",
            "grid_template_rows": null,
            "right": null,
            "justify_content": null,
            "_view_module": "@jupyter-widgets/base",
            "overflow": null,
            "_model_module_version": "1.2.0",
            "_view_count": null,
            "flex_flow": null,
            "width": null,
            "min_width": null,
            "border": null,
            "align_items": null,
            "bottom": null,
            "_model_module": "@jupyter-widgets/base",
            "top": null,
            "grid_column": null,
            "overflow_y": null,
            "overflow_x": null,
            "grid_auto_flow": null,
            "grid_area": null,
            "grid_template_columns": null,
            "flex": null,
            "_model_name": "LayoutModel",
            "justify_items": null,
            "grid_row": null,
            "max_height": null,
            "align_content": null,
            "visibility": null,
            "align_self": null,
            "height": null,
            "min_height": null,
            "padding": null,
            "grid_auto_rows": null,
            "grid_gap": null,
            "max_width": null,
            "order": null,
            "_view_module_version": "1.2.0",
            "grid_template_areas": null,
            "object_position": null,
            "object_fit": null,
            "grid_auto_columns": null,
            "margin": null,
            "display": null,
            "left": null
          }
        },
        "1cd81a7d0387422e8d38850f59aaeef0": {
          "model_module": "@jupyter-widgets/controls",
          "model_name": "HBoxModel",
          "state": {
            "_view_name": "HBoxView",
            "_dom_classes": [],
            "_model_name": "HBoxModel",
            "_view_module": "@jupyter-widgets/controls",
            "_model_module_version": "1.5.0",
            "_view_count": null,
            "_view_module_version": "1.5.0",
            "box_style": "",
            "layout": "IPY_MODEL_a1094d78086f42cca125a736498f5875",
            "_model_module": "@jupyter-widgets/controls",
            "children": [
              "IPY_MODEL_eb7c4c7a41ca455ab5db190541b2b5b5",
              "IPY_MODEL_a905c1bc3d7c4fbc9b0d22f3795933ac"
            ]
          }
        },
        "a1094d78086f42cca125a736498f5875": {
          "model_module": "@jupyter-widgets/base",
          "model_name": "LayoutModel",
          "state": {
            "_view_name": "LayoutView",
            "grid_template_rows": null,
            "right": null,
            "justify_content": null,
            "_view_module": "@jupyter-widgets/base",
            "overflow": null,
            "_model_module_version": "1.2.0",
            "_view_count": null,
            "flex_flow": null,
            "width": null,
            "min_width": null,
            "border": null,
            "align_items": null,
            "bottom": null,
            "_model_module": "@jupyter-widgets/base",
            "top": null,
            "grid_column": null,
            "overflow_y": null,
            "overflow_x": null,
            "grid_auto_flow": null,
            "grid_area": null,
            "grid_template_columns": null,
            "flex": null,
            "_model_name": "LayoutModel",
            "justify_items": null,
            "grid_row": null,
            "max_height": null,
            "align_content": null,
            "visibility": null,
            "align_self": null,
            "height": null,
            "min_height": null,
            "padding": null,
            "grid_auto_rows": null,
            "grid_gap": null,
            "max_width": null,
            "order": null,
            "_view_module_version": "1.2.0",
            "grid_template_areas": null,
            "object_position": null,
            "object_fit": null,
            "grid_auto_columns": null,
            "margin": null,
            "display": null,
            "left": null
          }
        },
        "eb7c4c7a41ca455ab5db190541b2b5b5": {
          "model_module": "@jupyter-widgets/controls",
          "model_name": "FloatProgressModel",
          "state": {
            "_view_name": "ProgressView",
            "style": "IPY_MODEL_4b22bda55a3a467597fb26adf27b0bd9",
            "_dom_classes": [],
            "description": "100%",
            "_model_name": "FloatProgressModel",
            "bar_style": "success",
            "max": 39,
            "_view_module": "@jupyter-widgets/controls",
            "_model_module_version": "1.5.0",
            "value": 39,
            "_view_count": null,
            "_view_module_version": "1.5.0",
            "orientation": "horizontal",
            "min": 0,
            "description_tooltip": null,
            "_model_module": "@jupyter-widgets/controls",
            "layout": "IPY_MODEL_1247f0fe8a6842b3a6175b29515c6e90"
          }
        },
        "a905c1bc3d7c4fbc9b0d22f3795933ac": {
          "model_module": "@jupyter-widgets/controls",
          "model_name": "HTMLModel",
          "state": {
            "_view_name": "HTMLView",
            "style": "IPY_MODEL_d976673b356747db8d03cb8e06096b55",
            "_dom_classes": [],
            "description": "",
            "_model_name": "HTMLModel",
            "placeholder": "​",
            "_view_module": "@jupyter-widgets/controls",
            "_model_module_version": "1.5.0",
            "value": " 39/39 [00:00&lt;00:00, 267.80it/s]",
            "_view_count": null,
            "_view_module_version": "1.5.0",
            "description_tooltip": null,
            "_model_module": "@jupyter-widgets/controls",
            "layout": "IPY_MODEL_641f547346f346ebb18d4b8e7514dc01"
          }
        },
        "4b22bda55a3a467597fb26adf27b0bd9": {
          "model_module": "@jupyter-widgets/controls",
          "model_name": "ProgressStyleModel",
          "state": {
            "_view_name": "StyleView",
            "_model_name": "ProgressStyleModel",
            "description_width": "initial",
            "_view_module": "@jupyter-widgets/base",
            "_model_module_version": "1.5.0",
            "_view_count": null,
            "_view_module_version": "1.2.0",
            "bar_color": null,
            "_model_module": "@jupyter-widgets/controls"
          }
        },
        "1247f0fe8a6842b3a6175b29515c6e90": {
          "model_module": "@jupyter-widgets/base",
          "model_name": "LayoutModel",
          "state": {
            "_view_name": "LayoutView",
            "grid_template_rows": null,
            "right": null,
            "justify_content": null,
            "_view_module": "@jupyter-widgets/base",
            "overflow": null,
            "_model_module_version": "1.2.0",
            "_view_count": null,
            "flex_flow": null,
            "width": null,
            "min_width": null,
            "border": null,
            "align_items": null,
            "bottom": null,
            "_model_module": "@jupyter-widgets/base",
            "top": null,
            "grid_column": null,
            "overflow_y": null,
            "overflow_x": null,
            "grid_auto_flow": null,
            "grid_area": null,
            "grid_template_columns": null,
            "flex": null,
            "_model_name": "LayoutModel",
            "justify_items": null,
            "grid_row": null,
            "max_height": null,
            "align_content": null,
            "visibility": null,
            "align_self": null,
            "height": null,
            "min_height": null,
            "padding": null,
            "grid_auto_rows": null,
            "grid_gap": null,
            "max_width": null,
            "order": null,
            "_view_module_version": "1.2.0",
            "grid_template_areas": null,
            "object_position": null,
            "object_fit": null,
            "grid_auto_columns": null,
            "margin": null,
            "display": null,
            "left": null
          }
        },
        "d976673b356747db8d03cb8e06096b55": {
          "model_module": "@jupyter-widgets/controls",
          "model_name": "DescriptionStyleModel",
          "state": {
            "_view_name": "StyleView",
            "_model_name": "DescriptionStyleModel",
            "description_width": "",
            "_view_module": "@jupyter-widgets/base",
            "_model_module_version": "1.5.0",
            "_view_count": null,
            "_view_module_version": "1.2.0",
            "_model_module": "@jupyter-widgets/controls"
          }
        },
        "641f547346f346ebb18d4b8e7514dc01": {
          "model_module": "@jupyter-widgets/base",
          "model_name": "LayoutModel",
          "state": {
            "_view_name": "LayoutView",
            "grid_template_rows": null,
            "right": null,
            "justify_content": null,
            "_view_module": "@jupyter-widgets/base",
            "overflow": null,
            "_model_module_version": "1.2.0",
            "_view_count": null,
            "flex_flow": null,
            "width": null,
            "min_width": null,
            "border": null,
            "align_items": null,
            "bottom": null,
            "_model_module": "@jupyter-widgets/base",
            "top": null,
            "grid_column": null,
            "overflow_y": null,
            "overflow_x": null,
            "grid_auto_flow": null,
            "grid_area": null,
            "grid_template_columns": null,
            "flex": null,
            "_model_name": "LayoutModel",
            "justify_items": null,
            "grid_row": null,
            "max_height": null,
            "align_content": null,
            "visibility": null,
            "align_self": null,
            "height": null,
            "min_height": null,
            "padding": null,
            "grid_auto_rows": null,
            "grid_gap": null,
            "max_width": null,
            "order": null,
            "_view_module_version": "1.2.0",
            "grid_template_areas": null,
            "object_position": null,
            "object_fit": null,
            "grid_auto_columns": null,
            "margin": null,
            "display": null,
            "left": null
          }
        },
        "ff3d814f075743cf9122c659a6df574f": {
          "model_module": "@jupyter-widgets/controls",
          "model_name": "HBoxModel",
          "state": {
            "_view_name": "HBoxView",
            "_dom_classes": [],
            "_model_name": "HBoxModel",
            "_view_module": "@jupyter-widgets/controls",
            "_model_module_version": "1.5.0",
            "_view_count": null,
            "_view_module_version": "1.5.0",
            "box_style": "",
            "layout": "IPY_MODEL_1343e30dcbda404a9ec3deb9e2c42541",
            "_model_module": "@jupyter-widgets/controls",
            "children": [
              "IPY_MODEL_42a6161b9b8541e2a40bb5397aca3639",
              "IPY_MODEL_c35d8b62dc184f9b93bcf38742489fe9"
            ]
          }
        },
        "1343e30dcbda404a9ec3deb9e2c42541": {
          "model_module": "@jupyter-widgets/base",
          "model_name": "LayoutModel",
          "state": {
            "_view_name": "LayoutView",
            "grid_template_rows": null,
            "right": null,
            "justify_content": null,
            "_view_module": "@jupyter-widgets/base",
            "overflow": null,
            "_model_module_version": "1.2.0",
            "_view_count": null,
            "flex_flow": null,
            "width": null,
            "min_width": null,
            "border": null,
            "align_items": null,
            "bottom": null,
            "_model_module": "@jupyter-widgets/base",
            "top": null,
            "grid_column": null,
            "overflow_y": null,
            "overflow_x": null,
            "grid_auto_flow": null,
            "grid_area": null,
            "grid_template_columns": null,
            "flex": null,
            "_model_name": "LayoutModel",
            "justify_items": null,
            "grid_row": null,
            "max_height": null,
            "align_content": null,
            "visibility": null,
            "align_self": null,
            "height": null,
            "min_height": null,
            "padding": null,
            "grid_auto_rows": null,
            "grid_gap": null,
            "max_width": null,
            "order": null,
            "_view_module_version": "1.2.0",
            "grid_template_areas": null,
            "object_position": null,
            "object_fit": null,
            "grid_auto_columns": null,
            "margin": null,
            "display": null,
            "left": null
          }
        },
        "42a6161b9b8541e2a40bb5397aca3639": {
          "model_module": "@jupyter-widgets/controls",
          "model_name": "FloatProgressModel",
          "state": {
            "_view_name": "ProgressView",
            "style": "IPY_MODEL_fe00c96125a640c287b5fb929de17e37",
            "_dom_classes": [],
            "description": "100%",
            "_model_name": "FloatProgressModel",
            "bar_style": "success",
            "max": 162,
            "_view_module": "@jupyter-widgets/controls",
            "_model_module_version": "1.5.0",
            "value": 162,
            "_view_count": null,
            "_view_module_version": "1.5.0",
            "orientation": "horizontal",
            "min": 0,
            "description_tooltip": null,
            "_model_module": "@jupyter-widgets/controls",
            "layout": "IPY_MODEL_d9c5cfc4894d43b2a3102c91bf0cb7d5"
          }
        },
        "c35d8b62dc184f9b93bcf38742489fe9": {
          "model_module": "@jupyter-widgets/controls",
          "model_name": "HTMLModel",
          "state": {
            "_view_name": "HTMLView",
            "style": "IPY_MODEL_6352ee5de2e64d2cb187f46a7ba4b39c",
            "_dom_classes": [],
            "description": "",
            "_model_name": "HTMLModel",
            "placeholder": "​",
            "_view_module": "@jupyter-widgets/controls",
            "_model_module_version": "1.5.0",
            "value": " 162/162 [00:01&lt;00:00, 84.42it/s]",
            "_view_count": null,
            "_view_module_version": "1.5.0",
            "description_tooltip": null,
            "_model_module": "@jupyter-widgets/controls",
            "layout": "IPY_MODEL_d453e9ede93144949b35aef3bcb6cb89"
          }
        },
        "fe00c96125a640c287b5fb929de17e37": {
          "model_module": "@jupyter-widgets/controls",
          "model_name": "ProgressStyleModel",
          "state": {
            "_view_name": "StyleView",
            "_model_name": "ProgressStyleModel",
            "description_width": "initial",
            "_view_module": "@jupyter-widgets/base",
            "_model_module_version": "1.5.0",
            "_view_count": null,
            "_view_module_version": "1.2.0",
            "bar_color": null,
            "_model_module": "@jupyter-widgets/controls"
          }
        },
        "d9c5cfc4894d43b2a3102c91bf0cb7d5": {
          "model_module": "@jupyter-widgets/base",
          "model_name": "LayoutModel",
          "state": {
            "_view_name": "LayoutView",
            "grid_template_rows": null,
            "right": null,
            "justify_content": null,
            "_view_module": "@jupyter-widgets/base",
            "overflow": null,
            "_model_module_version": "1.2.0",
            "_view_count": null,
            "flex_flow": null,
            "width": null,
            "min_width": null,
            "border": null,
            "align_items": null,
            "bottom": null,
            "_model_module": "@jupyter-widgets/base",
            "top": null,
            "grid_column": null,
            "overflow_y": null,
            "overflow_x": null,
            "grid_auto_flow": null,
            "grid_area": null,
            "grid_template_columns": null,
            "flex": null,
            "_model_name": "LayoutModel",
            "justify_items": null,
            "grid_row": null,
            "max_height": null,
            "align_content": null,
            "visibility": null,
            "align_self": null,
            "height": null,
            "min_height": null,
            "padding": null,
            "grid_auto_rows": null,
            "grid_gap": null,
            "max_width": null,
            "order": null,
            "_view_module_version": "1.2.0",
            "grid_template_areas": null,
            "object_position": null,
            "object_fit": null,
            "grid_auto_columns": null,
            "margin": null,
            "display": null,
            "left": null
          }
        },
        "6352ee5de2e64d2cb187f46a7ba4b39c": {
          "model_module": "@jupyter-widgets/controls",
          "model_name": "DescriptionStyleModel",
          "state": {
            "_view_name": "StyleView",
            "_model_name": "DescriptionStyleModel",
            "description_width": "",
            "_view_module": "@jupyter-widgets/base",
            "_model_module_version": "1.5.0",
            "_view_count": null,
            "_view_module_version": "1.2.0",
            "_model_module": "@jupyter-widgets/controls"
          }
        },
        "d453e9ede93144949b35aef3bcb6cb89": {
          "model_module": "@jupyter-widgets/base",
          "model_name": "LayoutModel",
          "state": {
            "_view_name": "LayoutView",
            "grid_template_rows": null,
            "right": null,
            "justify_content": null,
            "_view_module": "@jupyter-widgets/base",
            "overflow": null,
            "_model_module_version": "1.2.0",
            "_view_count": null,
            "flex_flow": null,
            "width": null,
            "min_width": null,
            "border": null,
            "align_items": null,
            "bottom": null,
            "_model_module": "@jupyter-widgets/base",
            "top": null,
            "grid_column": null,
            "overflow_y": null,
            "overflow_x": null,
            "grid_auto_flow": null,
            "grid_area": null,
            "grid_template_columns": null,
            "flex": null,
            "_model_name": "LayoutModel",
            "justify_items": null,
            "grid_row": null,
            "max_height": null,
            "align_content": null,
            "visibility": null,
            "align_self": null,
            "height": null,
            "min_height": null,
            "padding": null,
            "grid_auto_rows": null,
            "grid_gap": null,
            "max_width": null,
            "order": null,
            "_view_module_version": "1.2.0",
            "grid_template_areas": null,
            "object_position": null,
            "object_fit": null,
            "grid_auto_columns": null,
            "margin": null,
            "display": null,
            "left": null
          }
        },
        "c481c2bd227e4d5c9798c0e6ed51dcd2": {
          "model_module": "@jupyter-widgets/controls",
          "model_name": "HBoxModel",
          "state": {
            "_view_name": "HBoxView",
            "_dom_classes": [],
            "_model_name": "HBoxModel",
            "_view_module": "@jupyter-widgets/controls",
            "_model_module_version": "1.5.0",
            "_view_count": null,
            "_view_module_version": "1.5.0",
            "box_style": "",
            "layout": "IPY_MODEL_3b89947cefba461d8c786b7e4d75ac4b",
            "_model_module": "@jupyter-widgets/controls",
            "children": [
              "IPY_MODEL_3a9621e5dc914f5588b12e3bd66d485a",
              "IPY_MODEL_62cb81acb6b644beae030a42e7e2525b"
            ]
          }
        },
        "3b89947cefba461d8c786b7e4d75ac4b": {
          "model_module": "@jupyter-widgets/base",
          "model_name": "LayoutModel",
          "state": {
            "_view_name": "LayoutView",
            "grid_template_rows": null,
            "right": null,
            "justify_content": null,
            "_view_module": "@jupyter-widgets/base",
            "overflow": null,
            "_model_module_version": "1.2.0",
            "_view_count": null,
            "flex_flow": null,
            "width": null,
            "min_width": null,
            "border": null,
            "align_items": null,
            "bottom": null,
            "_model_module": "@jupyter-widgets/base",
            "top": null,
            "grid_column": null,
            "overflow_y": null,
            "overflow_x": null,
            "grid_auto_flow": null,
            "grid_area": null,
            "grid_template_columns": null,
            "flex": null,
            "_model_name": "LayoutModel",
            "justify_items": null,
            "grid_row": null,
            "max_height": null,
            "align_content": null,
            "visibility": null,
            "align_self": null,
            "height": null,
            "min_height": null,
            "padding": null,
            "grid_auto_rows": null,
            "grid_gap": null,
            "max_width": null,
            "order": null,
            "_view_module_version": "1.2.0",
            "grid_template_areas": null,
            "object_position": null,
            "object_fit": null,
            "grid_auto_columns": null,
            "margin": null,
            "display": null,
            "left": null
          }
        },
        "3a9621e5dc914f5588b12e3bd66d485a": {
          "model_module": "@jupyter-widgets/controls",
          "model_name": "FloatProgressModel",
          "state": {
            "_view_name": "ProgressView",
            "style": "IPY_MODEL_a6d21151cc68490ab7bebf980a536305",
            "_dom_classes": [],
            "description": "100%",
            "_model_name": "FloatProgressModel",
            "bar_style": "success",
            "max": 189,
            "_view_module": "@jupyter-widgets/controls",
            "_model_module_version": "1.5.0",
            "value": 189,
            "_view_count": null,
            "_view_module_version": "1.5.0",
            "orientation": "horizontal",
            "min": 0,
            "description_tooltip": null,
            "_model_module": "@jupyter-widgets/controls",
            "layout": "IPY_MODEL_165c7c3c1f724fe4b8959af91a57bfda"
          }
        },
        "62cb81acb6b644beae030a42e7e2525b": {
          "model_module": "@jupyter-widgets/controls",
          "model_name": "HTMLModel",
          "state": {
            "_view_name": "HTMLView",
            "style": "IPY_MODEL_84cc555113fc4f88a7a7166995ccb170",
            "_dom_classes": [],
            "description": "",
            "_model_name": "HTMLModel",
            "placeholder": "​",
            "_view_module": "@jupyter-widgets/controls",
            "_model_module_version": "1.5.0",
            "value": " 189/189 [00:01&lt;00:00, 129.50it/s]",
            "_view_count": null,
            "_view_module_version": "1.5.0",
            "description_tooltip": null,
            "_model_module": "@jupyter-widgets/controls",
            "layout": "IPY_MODEL_cc7d3f9467234e1c99d9db8452aa3690"
          }
        },
        "a6d21151cc68490ab7bebf980a536305": {
          "model_module": "@jupyter-widgets/controls",
          "model_name": "ProgressStyleModel",
          "state": {
            "_view_name": "StyleView",
            "_model_name": "ProgressStyleModel",
            "description_width": "initial",
            "_view_module": "@jupyter-widgets/base",
            "_model_module_version": "1.5.0",
            "_view_count": null,
            "_view_module_version": "1.2.0",
            "bar_color": null,
            "_model_module": "@jupyter-widgets/controls"
          }
        },
        "165c7c3c1f724fe4b8959af91a57bfda": {
          "model_module": "@jupyter-widgets/base",
          "model_name": "LayoutModel",
          "state": {
            "_view_name": "LayoutView",
            "grid_template_rows": null,
            "right": null,
            "justify_content": null,
            "_view_module": "@jupyter-widgets/base",
            "overflow": null,
            "_model_module_version": "1.2.0",
            "_view_count": null,
            "flex_flow": null,
            "width": null,
            "min_width": null,
            "border": null,
            "align_items": null,
            "bottom": null,
            "_model_module": "@jupyter-widgets/base",
            "top": null,
            "grid_column": null,
            "overflow_y": null,
            "overflow_x": null,
            "grid_auto_flow": null,
            "grid_area": null,
            "grid_template_columns": null,
            "flex": null,
            "_model_name": "LayoutModel",
            "justify_items": null,
            "grid_row": null,
            "max_height": null,
            "align_content": null,
            "visibility": null,
            "align_self": null,
            "height": null,
            "min_height": null,
            "padding": null,
            "grid_auto_rows": null,
            "grid_gap": null,
            "max_width": null,
            "order": null,
            "_view_module_version": "1.2.0",
            "grid_template_areas": null,
            "object_position": null,
            "object_fit": null,
            "grid_auto_columns": null,
            "margin": null,
            "display": null,
            "left": null
          }
        },
        "84cc555113fc4f88a7a7166995ccb170": {
          "model_module": "@jupyter-widgets/controls",
          "model_name": "DescriptionStyleModel",
          "state": {
            "_view_name": "StyleView",
            "_model_name": "DescriptionStyleModel",
            "description_width": "",
            "_view_module": "@jupyter-widgets/base",
            "_model_module_version": "1.5.0",
            "_view_count": null,
            "_view_module_version": "1.2.0",
            "_model_module": "@jupyter-widgets/controls"
          }
        },
        "cc7d3f9467234e1c99d9db8452aa3690": {
          "model_module": "@jupyter-widgets/base",
          "model_name": "LayoutModel",
          "state": {
            "_view_name": "LayoutView",
            "grid_template_rows": null,
            "right": null,
            "justify_content": null,
            "_view_module": "@jupyter-widgets/base",
            "overflow": null,
            "_model_module_version": "1.2.0",
            "_view_count": null,
            "flex_flow": null,
            "width": null,
            "min_width": null,
            "border": null,
            "align_items": null,
            "bottom": null,
            "_model_module": "@jupyter-widgets/base",
            "top": null,
            "grid_column": null,
            "overflow_y": null,
            "overflow_x": null,
            "grid_auto_flow": null,
            "grid_area": null,
            "grid_template_columns": null,
            "flex": null,
            "_model_name": "LayoutModel",
            "justify_items": null,
            "grid_row": null,
            "max_height": null,
            "align_content": null,
            "visibility": null,
            "align_self": null,
            "height": null,
            "min_height": null,
            "padding": null,
            "grid_auto_rows": null,
            "grid_gap": null,
            "max_width": null,
            "order": null,
            "_view_module_version": "1.2.0",
            "grid_template_areas": null,
            "object_position": null,
            "object_fit": null,
            "grid_auto_columns": null,
            "margin": null,
            "display": null,
            "left": null
          }
        },
        "ee42639244cb46368c224ff452504c20": {
          "model_module": "@jupyter-widgets/controls",
          "model_name": "HBoxModel",
          "state": {
            "_view_name": "HBoxView",
            "_dom_classes": [],
            "_model_name": "HBoxModel",
            "_view_module": "@jupyter-widgets/controls",
            "_model_module_version": "1.5.0",
            "_view_count": null,
            "_view_module_version": "1.5.0",
            "box_style": "",
            "layout": "IPY_MODEL_a4df1968161143e3a70d59c7b2b36cb1",
            "_model_module": "@jupyter-widgets/controls",
            "children": [
              "IPY_MODEL_cd16b3176d9f4d43b4d7e9593e54ae3d",
              "IPY_MODEL_6174f9284e5b4f4e88ea65f77dee89fc"
            ]
          }
        },
        "a4df1968161143e3a70d59c7b2b36cb1": {
          "model_module": "@jupyter-widgets/base",
          "model_name": "LayoutModel",
          "state": {
            "_view_name": "LayoutView",
            "grid_template_rows": null,
            "right": null,
            "justify_content": null,
            "_view_module": "@jupyter-widgets/base",
            "overflow": null,
            "_model_module_version": "1.2.0",
            "_view_count": null,
            "flex_flow": null,
            "width": null,
            "min_width": null,
            "border": null,
            "align_items": null,
            "bottom": null,
            "_model_module": "@jupyter-widgets/base",
            "top": null,
            "grid_column": null,
            "overflow_y": null,
            "overflow_x": null,
            "grid_auto_flow": null,
            "grid_area": null,
            "grid_template_columns": null,
            "flex": null,
            "_model_name": "LayoutModel",
            "justify_items": null,
            "grid_row": null,
            "max_height": null,
            "align_content": null,
            "visibility": null,
            "align_self": null,
            "height": null,
            "min_height": null,
            "padding": null,
            "grid_auto_rows": null,
            "grid_gap": null,
            "max_width": null,
            "order": null,
            "_view_module_version": "1.2.0",
            "grid_template_areas": null,
            "object_position": null,
            "object_fit": null,
            "grid_auto_columns": null,
            "margin": null,
            "display": null,
            "left": null
          }
        },
        "cd16b3176d9f4d43b4d7e9593e54ae3d": {
          "model_module": "@jupyter-widgets/controls",
          "model_name": "FloatProgressModel",
          "state": {
            "_view_name": "ProgressView",
            "style": "IPY_MODEL_f826b8dfcc8942698123834a61edd562",
            "_dom_classes": [],
            "description": "100%",
            "_model_name": "FloatProgressModel",
            "bar_style": "success",
            "max": 351,
            "_view_module": "@jupyter-widgets/controls",
            "_model_module_version": "1.5.0",
            "value": 351,
            "_view_count": null,
            "_view_module_version": "1.5.0",
            "orientation": "horizontal",
            "min": 0,
            "description_tooltip": null,
            "_model_module": "@jupyter-widgets/controls",
            "layout": "IPY_MODEL_74dde29833174b25816ff513a6eb015f"
          }
        },
        "6174f9284e5b4f4e88ea65f77dee89fc": {
          "model_module": "@jupyter-widgets/controls",
          "model_name": "HTMLModel",
          "state": {
            "_view_name": "HTMLView",
            "style": "IPY_MODEL_c3f2bb0717664a3a95a663fadc27ed11",
            "_dom_classes": [],
            "description": "",
            "_model_name": "HTMLModel",
            "placeholder": "​",
            "_view_module": "@jupyter-widgets/controls",
            "_model_module_version": "1.5.0",
            "value": " 351/351 [00:00&lt;00:00, 366.85it/s]",
            "_view_count": null,
            "_view_module_version": "1.5.0",
            "description_tooltip": null,
            "_model_module": "@jupyter-widgets/controls",
            "layout": "IPY_MODEL_c357e89d8b164a998a96758c30fca149"
          }
        },
        "f826b8dfcc8942698123834a61edd562": {
          "model_module": "@jupyter-widgets/controls",
          "model_name": "ProgressStyleModel",
          "state": {
            "_view_name": "StyleView",
            "_model_name": "ProgressStyleModel",
            "description_width": "initial",
            "_view_module": "@jupyter-widgets/base",
            "_model_module_version": "1.5.0",
            "_view_count": null,
            "_view_module_version": "1.2.0",
            "bar_color": null,
            "_model_module": "@jupyter-widgets/controls"
          }
        },
        "74dde29833174b25816ff513a6eb015f": {
          "model_module": "@jupyter-widgets/base",
          "model_name": "LayoutModel",
          "state": {
            "_view_name": "LayoutView",
            "grid_template_rows": null,
            "right": null,
            "justify_content": null,
            "_view_module": "@jupyter-widgets/base",
            "overflow": null,
            "_model_module_version": "1.2.0",
            "_view_count": null,
            "flex_flow": null,
            "width": null,
            "min_width": null,
            "border": null,
            "align_items": null,
            "bottom": null,
            "_model_module": "@jupyter-widgets/base",
            "top": null,
            "grid_column": null,
            "overflow_y": null,
            "overflow_x": null,
            "grid_auto_flow": null,
            "grid_area": null,
            "grid_template_columns": null,
            "flex": null,
            "_model_name": "LayoutModel",
            "justify_items": null,
            "grid_row": null,
            "max_height": null,
            "align_content": null,
            "visibility": null,
            "align_self": null,
            "height": null,
            "min_height": null,
            "padding": null,
            "grid_auto_rows": null,
            "grid_gap": null,
            "max_width": null,
            "order": null,
            "_view_module_version": "1.2.0",
            "grid_template_areas": null,
            "object_position": null,
            "object_fit": null,
            "grid_auto_columns": null,
            "margin": null,
            "display": null,
            "left": null
          }
        },
        "c3f2bb0717664a3a95a663fadc27ed11": {
          "model_module": "@jupyter-widgets/controls",
          "model_name": "DescriptionStyleModel",
          "state": {
            "_view_name": "StyleView",
            "_model_name": "DescriptionStyleModel",
            "description_width": "",
            "_view_module": "@jupyter-widgets/base",
            "_model_module_version": "1.5.0",
            "_view_count": null,
            "_view_module_version": "1.2.0",
            "_model_module": "@jupyter-widgets/controls"
          }
        },
        "c357e89d8b164a998a96758c30fca149": {
          "model_module": "@jupyter-widgets/base",
          "model_name": "LayoutModel",
          "state": {
            "_view_name": "LayoutView",
            "grid_template_rows": null,
            "right": null,
            "justify_content": null,
            "_view_module": "@jupyter-widgets/base",
            "overflow": null,
            "_model_module_version": "1.2.0",
            "_view_count": null,
            "flex_flow": null,
            "width": null,
            "min_width": null,
            "border": null,
            "align_items": null,
            "bottom": null,
            "_model_module": "@jupyter-widgets/base",
            "top": null,
            "grid_column": null,
            "overflow_y": null,
            "overflow_x": null,
            "grid_auto_flow": null,
            "grid_area": null,
            "grid_template_columns": null,
            "flex": null,
            "_model_name": "LayoutModel",
            "justify_items": null,
            "grid_row": null,
            "max_height": null,
            "align_content": null,
            "visibility": null,
            "align_self": null,
            "height": null,
            "min_height": null,
            "padding": null,
            "grid_auto_rows": null,
            "grid_gap": null,
            "max_width": null,
            "order": null,
            "_view_module_version": "1.2.0",
            "grid_template_areas": null,
            "object_position": null,
            "object_fit": null,
            "grid_auto_columns": null,
            "margin": null,
            "display": null,
            "left": null
          }
        }
      }
    }
  },
  "cells": [
    {
      "cell_type": "markdown",
      "metadata": {
        "id": "view-in-github",
        "colab_type": "text"
      },
      "source": [
        "<a href=\"https://colab.research.google.com/github/s-whynot/BearingFaultMFPT-repo/blob/master/Bearing_Fault_MFPT_10%25Train_90%25Test_3_Class.ipynb\" target=\"_parent\"><img src=\"https://colab.research.google.com/assets/colab-badge.svg\" alt=\"Open In Colab\"/></a>"
      ]
    },
    {
      "cell_type": "markdown",
      "metadata": {
        "id": "K6L35Hp9zql-"
      },
      "source": [
        "#MFPT Dataset for Bearing Fault Classification\n",
        "\n",
        "##Society for Machinery Failure Prevention Technology\n",
        "Condition Based Maintenance Fault Database\n",
        "for Testing of Diagnostic and Prognostics Algorithms\n",
        "Data Assembled. Prepared on behalf of MFPT\n",
        "by Dr Eric Bechhoefer, Chief Engineer, NRG Systems\n",
        "\n",
        "https://www.mfpt.org/fault-data-sets/"
      ]
    },
    {
      "cell_type": "code",
      "metadata": {
        "id": "1OkfYEz-Bn4p"
      },
      "source": [
        "import errno, os\n",
        "import pandas as pd\n",
        "import numpy as np\n",
        "import tensorflow as tf\n",
        "import matplotlib.pyplot as plt\n",
        "%matplotlib inline\n",
        "\n",
        "from os import listdir\n",
        "from os.path import isfile, join\n",
        "\n",
        "import scipy.io as sio"
      ],
      "execution_count": null,
      "outputs": []
    },
    {
      "cell_type": "code",
      "metadata": {
        "id": "C-S0wSfn4QDh",
        "colab": {
          "base_uri": "https://localhost:8080/"
        },
        "outputId": "9b578c05-aee4-4b49-e6a3-7940707ac4ff"
      },
      "source": [
        "from google.colab import drive\n",
        "drive.mount('/content/drive')"
      ],
      "execution_count": null,
      "outputs": [
        {
          "output_type": "stream",
          "text": [
            "Mounted at /content/drive\n"
          ],
          "name": "stdout"
        }
      ]
    },
    {
      "cell_type": "markdown",
      "metadata": {
        "id": "wPnYzKIaAJ2D"
      },
      "source": [
        "# Functions used\n"
      ]
    },
    {
      "cell_type": "code",
      "metadata": {
        "id": "r0eTuFUYqWxZ"
      },
      "source": [
        "#Function for extracting g data array from the dictionary read from Mat files\n",
        "def arrtolistgdataALT(matarr):\n",
        "  p11 = matarr['bearing'][:,0]['gs']\n",
        "  return p11[0]\n",
        "\n",
        "def Percent_data_split(array_1, array_2, percent_1 = 10, index_1 = False):\n",
        "  if index_1 == False:\n",
        "    #splitting FE data by percent \n",
        "    len_n = array_1.shape[0]\n",
        "    percent_true = percent_1/100\n",
        "    #print(percent_true)\n",
        "    x = int(percent_true*len_n) #% split\n",
        "    data_percent, data_rest = np.split(array_1, [x])\n",
        "  else:\n",
        "    #splitting FE data by percent of DE data\n",
        "    len_n = array_2.shape[0]\n",
        "    percent_true = percent_1/100\n",
        "    #print(percent_true)\n",
        "    x = int(percent_true*len_n) #% split\n",
        "    #print(x)\n",
        "    data_percent, data_rest = np.split(array_1, [x])\n",
        "  return data_percent, data_rest\n",
        "  \n",
        "#Function for downsampling every window of g data array\n",
        "def downsampling_half_sec_window(Garr, no_of_windows_in_sec):\n",
        "  Arr_split = np.split(Garr, no_of_windows_in_sec)\n",
        "  down_sampled_all = []\n",
        "  for i in range(no_of_windows_in_sec):\n",
        "    down_sampled = Arr_split[i][::2]\n",
        "    down_sampled_all = np.append(down_sampled_all, down_sampled)\n",
        "  res1 = np.vstack(down_sampled_all) \n",
        "  return res1"
      ],
      "execution_count": null,
      "outputs": []
    },
    {
      "cell_type": "markdown",
      "metadata": {
        "id": "AOkOAcDD_7g-"
      },
      "source": [
        "##Nominal \"No Fault\" Data\n",
        "3 Baseline conditions -\n",
        "\n",
        "1.   constant load of 270 lbs \n",
        "2.   Input Shaft Rate of 25 Hz\n",
        "3.   Sampling Rate of 97.656 kHz\n"
      ]
    },
    {
      "cell_type": "code",
      "metadata": {
        "id": "CHpO8hWdUpC9",
        "colab": {
          "base_uri": "https://localhost:8080/"
        },
        "outputId": "686347a1-86c3-47ba-bfd1-48bf1defaf2d"
      },
      "source": [
        "file_path = 'drive/My Drive/MFPT Fault Data Sets/1 - Three Baseline Conditions/'\n",
        "onlyfiles = [f for f in listdir(file_path) if isfile(join(file_path, f))]\n",
        "#print(onlyfiles[0])\n",
        "\n",
        "#Reading data from folder\n",
        "Nominal_data = []\n",
        "for filename in os.listdir(file_path):\n",
        "  if filename.endswith('.mat'):\n",
        "    print(filename)\n",
        "    datadict = sio.loadmat(os.path.join(file_path, filename))\n",
        "    time = datadict['__header__'][50:]\n",
        "    Gdata = arrtolistgdataALT(datadict)\n",
        "    Nominal_data.append(Gdata)   \n",
        "       \n",
        "Nominal_data = np.vstack(Nominal_data).flatten()"
      ],
      "execution_count": null,
      "outputs": [
        {
          "output_type": "stream",
          "text": [
            "baseline_2.mat\n",
            "baseline_3.mat\n",
            "baseline_1.mat\n"
          ],
          "name": "stdout"
        }
      ]
    },
    {
      "cell_type": "code",
      "metadata": {
        "id": "xP9EQO3KWoIQ",
        "colab": {
          "base_uri": "https://localhost:8080/",
          "height": 35
        },
        "outputId": "a32eb939-bfc0-4c87-fe41-b748a04d0f3a"
      },
      "source": [
        "#display(merged_G_3BL_data)\n",
        "#len(merged_G_3BL_data)\n",
        "display(Nominal_data.shape)"
      ],
      "execution_count": null,
      "outputs": [
        {
          "output_type": "display_data",
          "data": {
            "text/plain": [
              "(1757808,)"
            ]
          },
          "metadata": {
            "tags": []
          }
        }
      ]
    },
    {
      "cell_type": "code",
      "metadata": {
        "id": "vPQe2o4OohKi",
        "colab": {
          "base_uri": "https://localhost:8080/"
        },
        "outputId": "36223be6-13d7-4dc4-a25d-916948680ae2"
      },
      "source": [
        "p1 = datadict['bearing']['sr'].tolist()\n",
        "psr_1 = p1[0][0][0][0]\n",
        "print(\"The Sampling Rate in Hz: \", psr_1)\n",
        "p111 = datadict['bearing'][:, 0]['load'].tolist()\n",
        "print(\"Baseline Data for a Constant load in lbs: \", p111[0].tolist()[0][0])"
      ],
      "execution_count": null,
      "outputs": [
        {
          "output_type": "stream",
          "text": [
            "The Sampling Rate in Hz:  97656\n",
            "Baseline Data for a Constant load in lbs:  270\n"
          ],
          "name": "stdout"
        }
      ]
    },
    {
      "cell_type": "markdown",
      "metadata": {
        "id": "-eYXUt601r4J"
      },
      "source": [
        "##Outer Race(OR) Fault conditions"
      ]
    },
    {
      "cell_type": "markdown",
      "metadata": {
        "id": "2ICiShHv6_nu"
      },
      "source": [
        "###3 Outer Race(OR) Fault conditions \n",
        "1.   constant load of 270 lbs \n",
        "2.   Input Shaft Rate of 25 Hz\n",
        "3.   Sampling Rate of 97.656 kHz"
      ]
    },
    {
      "cell_type": "markdown",
      "metadata": {
        "id": "gxZWpfNFZXgi"
      },
      "source": [
        "**Simply skip every other samples to reduce the sampling rate to half**\n",
        "\n",
        "\n",
        "*   3 files - total 1,757,808 data points\n",
        "*   Each file - dimension (585936, 1)\n",
        "*   585,936 / 6 seconds = 97656 Sampling rate in Hz\n",
        "*   97656 X 1 =  97,656\n",
        "*   97656 X 2 = 195,312\n",
        "*   97656 X 3 = 292,968\n",
        "*   97656 X 4 = 390,624\n",
        "*   97656 X 5 = 488,280\n",
        "*   97656 X 6 = 585,936\n",
        "\n",
        "---\n",
        "\n",
        "After skipping every 2 steps - \n",
        "\n",
        "*   97,656 / 2 = 48,828\n",
        "*   For each 6 windows = 48,828 * 6 = 292,968 in a single file\n",
        "*   For 3 files = 292,968 * 3  = 878,904\n",
        "\n",
        "Now sampling rate for both OR data same\n",
        "\n",
        "\n",
        "\n",
        "\n"
      ]
    },
    {
      "cell_type": "code",
      "metadata": {
        "id": "O3GHZx-lftt1",
        "colab": {
          "base_uri": "https://localhost:8080/",
          "height": 201
        },
        "outputId": "c32bfbd3-001c-485e-a275-6540f36cd207"
      },
      "source": [
        "#The files present in the folder\n",
        "file_path_2 = 'drive/My Drive/MFPT Fault Data Sets/2 - Three Outer Race Fault Conditions/'\n",
        "onlyfiles_2 = [f for f in listdir(file_path_2) if isfile(join(file_path_2, f))]\n",
        "print(onlyfiles_2)\n",
        "\n",
        "Fixed_L_OR_data = []\n",
        "\n",
        "for filename_2 in os.listdir(file_path_2):\n",
        "  if filename_2.endswith('.mat'):\n",
        "    print(filename_2)\n",
        "    datadict_2 = sio.loadmat(os.path.join(file_path_2, filename_2))\n",
        "    time_2 = datadict_2['__header__'][50:]\n",
        "    Gdata_2 = arrtolistgdataALT(datadict_2)\n",
        "    display(np.shape(Gdata_2))\n",
        "    Gdata_2_Edit = downsampling_half_sec_window(Gdata_2, 6)\n",
        "    display(np.shape(Gdata_2_Edit))\n",
        "    #display(datadict_2)\n",
        "    Fixed_L_OR_data.append(Gdata_2_Edit)\n",
        "\n",
        "Fixed_L_OR_data = np.vstack(Fixed_L_OR_data).flatten()"
      ],
      "execution_count": null,
      "outputs": [
        {
          "output_type": "stream",
          "text": [
            "['cyclostat.tif', 'OuterRaceFault_1.mat', 'OuterRaceFault_2.mat', 'OuterRaceFault_3.mat']\n",
            "OuterRaceFault_1.mat\n"
          ],
          "name": "stdout"
        },
        {
          "output_type": "display_data",
          "data": {
            "text/plain": [
              "(585936, 1)"
            ]
          },
          "metadata": {
            "tags": []
          }
        },
        {
          "output_type": "display_data",
          "data": {
            "text/plain": [
              "(292968, 1)"
            ]
          },
          "metadata": {
            "tags": []
          }
        },
        {
          "output_type": "stream",
          "text": [
            "OuterRaceFault_2.mat\n"
          ],
          "name": "stdout"
        },
        {
          "output_type": "display_data",
          "data": {
            "text/plain": [
              "(585936, 1)"
            ]
          },
          "metadata": {
            "tags": []
          }
        },
        {
          "output_type": "display_data",
          "data": {
            "text/plain": [
              "(292968, 1)"
            ]
          },
          "metadata": {
            "tags": []
          }
        },
        {
          "output_type": "stream",
          "text": [
            "OuterRaceFault_3.mat\n"
          ],
          "name": "stdout"
        },
        {
          "output_type": "display_data",
          "data": {
            "text/plain": [
              "(585936, 1)"
            ]
          },
          "metadata": {
            "tags": []
          }
        },
        {
          "output_type": "display_data",
          "data": {
            "text/plain": [
              "(292968, 1)"
            ]
          },
          "metadata": {
            "tags": []
          }
        }
      ]
    },
    {
      "cell_type": "code",
      "metadata": {
        "id": "RTYNLtYZRAZ2",
        "colab": {
          "base_uri": "https://localhost:8080/",
          "height": 35
        },
        "outputId": "ecf1f71a-19ea-4d8b-b435-2231812a4a3e"
      },
      "source": [
        "display(Fixed_L_OR_data.shape)"
      ],
      "execution_count": null,
      "outputs": [
        {
          "output_type": "display_data",
          "data": {
            "text/plain": [
              "(878904,)"
            ]
          },
          "metadata": {
            "tags": []
          }
        }
      ]
    },
    {
      "cell_type": "code",
      "metadata": {
        "id": "4jjauG9SyFVw",
        "colab": {
          "base_uri": "https://localhost:8080/"
        },
        "outputId": "08fed12e-7e20-432a-ff36-31924b83bfbd"
      },
      "source": [
        "p2 = datadict_2['bearing']['sr'].tolist()\n",
        "psr_2 = p2[0][0][0][0]\n",
        "print(\"The Sampling Rate in Hz: \", psr_2)"
      ],
      "execution_count": null,
      "outputs": [
        {
          "output_type": "stream",
          "text": [
            "The Sampling Rate in Hz:  97656\n"
          ],
          "name": "stdout"
        }
      ]
    },
    {
      "cell_type": "markdown",
      "metadata": {
        "id": "mUABrY5t7QS9"
      },
      "source": [
        "###7 Outer Race(OR) conditions \n",
        "1.   Variable load of 25, 50, 100, 150, 200, 250 and 300 lbs \n",
        "2.   Input Shaft Rate of 25 Hz\n",
        "3.   Sampling Rate of 48.828 kHz for 3 seconds (bearing resonance was found be less than 20 kHz)"
      ]
    },
    {
      "cell_type": "markdown",
      "metadata": {
        "id": "1dicaL06PZYb"
      },
      "source": [
        "Merging the fixed load, high Sampling Rate(SR) OR data with the variable load, lower SR OR data.\n",
        "\n",
        "Now sampling rate is same for both OR data - "
      ]
    },
    {
      "cell_type": "code",
      "metadata": {
        "id": "SG5fgZw5kVx1",
        "colab": {
          "base_uri": "https://localhost:8080/",
          "height": 313
        },
        "outputId": "60b04d6e-dcec-40b4-da78-440824b4ef00"
      },
      "source": [
        "#The files present in the folder\n",
        "file_path_3 = 'drive/My Drive/MFPT Fault Data Sets/3 - Seven More Outer Race Fault Conditions/'\n",
        "onlyfiles_3 = [f for f in listdir(file_path_3) if isfile(join(file_path_3, f))]\n",
        "print(onlyfiles_3)\n",
        "\n",
        "Var_L_OR_data = []\n",
        "\n",
        "for filename_3 in os.listdir(file_path_3):\n",
        "     if filename_3.endswith('.mat'):\n",
        "       print(filename_3)\n",
        "       datadict_3 = sio.loadmat(os.path.join(file_path_3, filename_3))\n",
        "       time_3 = datadict_3['__header__'][50:]\n",
        "       Gdata_3 = arrtolistgdataALT(datadict_3)\n",
        "       display(np.shape(Gdata_3))\n",
        "       #display(datadict_3)\n",
        "       Var_L_OR_data.append(Gdata_3)\n",
        "\n",
        "Var_L_OR_data = np.vstack(Var_L_OR_data).flatten()\n",
        "merged_G_OR_data = np.append(Var_L_OR_data, Fixed_L_OR_data)"
      ],
      "execution_count": null,
      "outputs": [
        {
          "output_type": "stream",
          "text": [
            "['OuterRaceFault_vload_3.mat', 'OuterRaceFault_vload_2.mat', 'OuterRaceFault_vload_1.mat', 'OuterRaceFault_vload_5.mat', 'OuterRaceFault_vload_4.mat', 'OuterRaceFault_vload_6.mat', 'OuterRaceFault_vload_7.mat']\n",
            "OuterRaceFault_vload_3.mat\n"
          ],
          "name": "stdout"
        },
        {
          "output_type": "display_data",
          "data": {
            "text/plain": [
              "(146484, 1)"
            ]
          },
          "metadata": {
            "tags": []
          }
        },
        {
          "output_type": "stream",
          "text": [
            "OuterRaceFault_vload_2.mat\n"
          ],
          "name": "stdout"
        },
        {
          "output_type": "display_data",
          "data": {
            "text/plain": [
              "(146484, 1)"
            ]
          },
          "metadata": {
            "tags": []
          }
        },
        {
          "output_type": "stream",
          "text": [
            "OuterRaceFault_vload_1.mat\n"
          ],
          "name": "stdout"
        },
        {
          "output_type": "display_data",
          "data": {
            "text/plain": [
              "(146484, 1)"
            ]
          },
          "metadata": {
            "tags": []
          }
        },
        {
          "output_type": "stream",
          "text": [
            "OuterRaceFault_vload_5.mat\n"
          ],
          "name": "stdout"
        },
        {
          "output_type": "display_data",
          "data": {
            "text/plain": [
              "(146484, 1)"
            ]
          },
          "metadata": {
            "tags": []
          }
        },
        {
          "output_type": "stream",
          "text": [
            "OuterRaceFault_vload_4.mat\n"
          ],
          "name": "stdout"
        },
        {
          "output_type": "display_data",
          "data": {
            "text/plain": [
              "(146484, 1)"
            ]
          },
          "metadata": {
            "tags": []
          }
        },
        {
          "output_type": "stream",
          "text": [
            "OuterRaceFault_vload_6.mat\n"
          ],
          "name": "stdout"
        },
        {
          "output_type": "display_data",
          "data": {
            "text/plain": [
              "(146484, 1)"
            ]
          },
          "metadata": {
            "tags": []
          }
        },
        {
          "output_type": "stream",
          "text": [
            "OuterRaceFault_vload_7.mat\n"
          ],
          "name": "stdout"
        },
        {
          "output_type": "display_data",
          "data": {
            "text/plain": [
              "(146484, 1)"
            ]
          },
          "metadata": {
            "tags": []
          }
        }
      ]
    },
    {
      "cell_type": "code",
      "metadata": {
        "id": "U1JPF9ldngP8",
        "colab": {
          "base_uri": "https://localhost:8080/",
          "height": 35
        },
        "outputId": "8270958c-2768-4ecf-b2ee-bd864a2cdf2e"
      },
      "source": [
        "display(np.shape(merged_G_OR_data))\n",
        "#type(merged_G_OR_data)"
      ],
      "execution_count": null,
      "outputs": [
        {
          "output_type": "display_data",
          "data": {
            "text/plain": [
              "(1904292,)"
            ]
          },
          "metadata": {
            "tags": []
          }
        }
      ]
    },
    {
      "cell_type": "code",
      "metadata": {
        "id": "sJHpLc5HlEk-",
        "colab": {
          "base_uri": "https://localhost:8080/"
        },
        "outputId": "61108129-05e4-4afb-e69f-c6e138498197"
      },
      "source": [
        "p3 = datadict_3['bearing']['sr'].tolist()\n",
        "psr_3 = p3[0][0][0][0]\n",
        "print(\"The Sampling Rate in Hz: \", psr_3)"
      ],
      "execution_count": null,
      "outputs": [
        {
          "output_type": "stream",
          "text": [
            "The Sampling Rate in Hz:  48828\n"
          ],
          "name": "stdout"
        }
      ]
    },
    {
      "cell_type": "markdown",
      "metadata": {
        "id": "vtpv3Z7Y70oY"
      },
      "source": [
        "##7 Inner Race(IR) conditions -\n",
        "\n",
        "1. Variable load of 0, 50, 100, 150, 200, 250 and 300 lbs\n",
        "2. Input Shaft Rate of 25 Hz\n",
        "3. Sampling Rate of 48.828 kHz for 3 seconds (bearing resonance was found be less than 20 kHz)"
      ]
    },
    {
      "cell_type": "code",
      "metadata": {
        "id": "S_XUAeFO8chK",
        "colab": {
          "base_uri": "https://localhost:8080/"
        },
        "outputId": "d401b9f3-a54d-473f-b3d6-e4d16146f84f"
      },
      "source": [
        "#The files present in the folder\n",
        "file_path_4 = 'drive/My Drive/MFPT Fault Data Sets/4 - Seven Inner Race Fault Conditions/'\n",
        "onlyfiles_4 = [f for f in listdir(file_path_4) if isfile(join(file_path_4, f))]\n",
        "print(onlyfiles_4)\n",
        "\n",
        "IR_data = []\n",
        "for filename_4 in os.listdir(file_path_4):\n",
        "     if filename_4.endswith('.mat'):\n",
        "       print(filename_4)\n",
        "       datadict_4 = sio.loadmat(os.path.join(file_path_4, filename_4))\n",
        "       time_4 = datadict_4['__header__'][50:]\n",
        "       Gdata_4 = arrtolistgdataALT(datadict_4)\n",
        "       IR_data.append(Gdata_4)\n",
        "\n",
        "IR_data = np.vstack(IR_data).flatten()"
      ],
      "execution_count": null,
      "outputs": [
        {
          "output_type": "stream",
          "text": [
            "['innerRaceFaultTime.tif', 'innerRaceFaultTime.png', 'innerRaceFaultTime.fig', 'InnerRaceFault_vload_3.mat', 'InnerRaceFault_vload_2.mat', 'InnerRaceFault_vload_1.mat', 'InnerRace.fig', 'InnerRaceFault_vload_5.mat', 'InnerRaceFault_vload_4.mat', 'InnerRaceFault_vload_6.mat', 'InnerRaceFault_vload_7.mat']\n",
            "InnerRaceFault_vload_3.mat\n",
            "InnerRaceFault_vload_2.mat\n",
            "InnerRaceFault_vload_1.mat\n",
            "InnerRaceFault_vload_5.mat\n",
            "InnerRaceFault_vload_4.mat\n",
            "InnerRaceFault_vload_6.mat\n",
            "InnerRaceFault_vload_7.mat\n"
          ],
          "name": "stdout"
        }
      ]
    },
    {
      "cell_type": "code",
      "metadata": {
        "id": "4EgJGR_qnaw-",
        "colab": {
          "base_uri": "https://localhost:8080/",
          "height": 35
        },
        "outputId": "ac31572d-6962-49a2-c487-35a1dcce3dfd"
      },
      "source": [
        "display(np.shape(IR_data))"
      ],
      "execution_count": null,
      "outputs": [
        {
          "output_type": "display_data",
          "data": {
            "text/plain": [
              "(1025388,)"
            ]
          },
          "metadata": {
            "tags": []
          }
        }
      ]
    },
    {
      "cell_type": "code",
      "metadata": {
        "id": "CyDQYoyE08WK",
        "colab": {
          "base_uri": "https://localhost:8080/"
        },
        "outputId": "3e2cd79d-ae78-41b1-be6d-ac545e8d6f4d"
      },
      "source": [
        "p4 = datadict_4['bearing']['sr'].tolist()\n",
        "psr_4 = p4[0][0][0][0]\n",
        "print(\"The Sampling Rate in Hz: \", psr_4)"
      ],
      "execution_count": null,
      "outputs": [
        {
          "output_type": "stream",
          "text": [
            "The Sampling Rate in Hz:  48828\n"
          ],
          "name": "stdout"
        }
      ]
    },
    {
      "cell_type": "code",
      "metadata": {
        "id": "Do3CSz6nlGjz",
        "colab": {
          "base_uri": "https://localhost:8080/",
          "height": 34
        },
        "outputId": "64aec1aa-7573-4b03-aefe-2820b006e8ac"
      },
      "source": [
        "test = np.zeros([1,int(5e6)])\n",
        "test.shape"
      ],
      "execution_count": null,
      "outputs": [
        {
          "output_type": "execute_result",
          "data": {
            "text/plain": [
              "(1, 5000000)"
            ]
          },
          "metadata": {
            "tags": []
          },
          "execution_count": 38
        }
      ]
    },
    {
      "cell_type": "code",
      "metadata": {
        "id": "nf33z2S6le8A"
      },
      "source": [
        "np.save('test', test)"
      ],
      "execution_count": null,
      "outputs": []
    },
    {
      "cell_type": "code",
      "metadata": {
        "id": "zda4fwiJmD3o",
        "colab": {
          "base_uri": "https://localhost:8080/",
          "height": 34
        },
        "outputId": "f8bfcaa8-fe38-45ff-cc95-d1faa2f1bafa"
      },
      "source": [
        "new_test = np.load(\"/content/test.npy\")\n",
        "new_test.shape"
      ],
      "execution_count": null,
      "outputs": [
        {
          "output_type": "execute_result",
          "data": {
            "text/plain": [
              "(1, 5000000)"
            ]
          },
          "metadata": {
            "tags": []
          },
          "execution_count": 40
        }
      ]
    },
    {
      "cell_type": "markdown",
      "metadata": {
        "id": "_ONWCia-BGta"
      },
      "source": [
        "##Split Train Test"
      ]
    },
    {
      "cell_type": "markdown",
      "metadata": {
        "id": "PMMEGiMn9hSu"
      },
      "source": [
        "Transfer Learning with 5% Train and 95% Test\n",
        "1. Nominal - 5%\n",
        "2. Outer Race - 5%\n",
        "3. Inner Race - 5%"
      ]
    },
    {
      "cell_type": "markdown",
      "metadata": {
        "id": "FR9gzmMonA2Z"
      },
      "source": [
        "### Transfer Learning with 10% Train and 90% Test\n",
        "1. Nominal - 10%\n",
        "2. Outer Race - 10%\n",
        "3. Inner Race - 10%"
      ]
    },
    {
      "cell_type": "code",
      "metadata": {
        "colab": {
          "base_uri": "https://localhost:8080/"
        },
        "id": "1-rt54ai-7B0",
        "outputId": "fbb7fbc8-9134-414b-963d-3b853d78c20d"
      },
      "source": [
        "Nominal_data_train, Nominal_data_test = Percent_data_split(Nominal_data, Nominal_data, 10)\n",
        "print(\"Nominal_data_train\", Nominal_data_train.shape)\n",
        "print(\"Nominal_data_test\", Nominal_data_test.shape)\n",
        "print(\"Nominal_data\", Nominal_data.shape)\n",
        "\n",
        "IR_data_train, IR_data_test = Percent_data_split(IR_data, IR_data, 10)\n",
        "print(\"IR_data_train\", IR_data_train.shape)\n",
        "print(\"IR_data_test\", IR_data_test.shape)\n",
        "print(\"IR_data\", IR_data.shape)\n",
        "\n",
        "OR_data_train, OR_data_test = Percent_data_split(merged_G_OR_data, merged_G_OR_data, 10)\n",
        "print(\"OR_data_train\", OR_data_train.shape)\n",
        "print(\"OR_data_test\", OR_data_test.shape)\n",
        "print(\"OR_data\", merged_G_OR_data.shape)"
      ],
      "execution_count": null,
      "outputs": [
        {
          "output_type": "stream",
          "text": [
            "Nominal_data_train (175780,)\n",
            "Nominal_data_test (1582028,)\n",
            "Nominal_data (1757808,)\n",
            "IR_data_train (102538,)\n",
            "IR_data_test (922850,)\n",
            "IR_data (1025388,)\n",
            "OR_data_train (190429,)\n",
            "OR_data_test (1713863,)\n",
            "OR_data (1904292,)\n"
          ],
          "name": "stdout"
        }
      ]
    },
    {
      "cell_type": "markdown",
      "metadata": {
        "id": "Jr6o7LAly0TO"
      },
      "source": [
        "### Validation split \n",
        "25% of Train set"
      ]
    },
    {
      "cell_type": "code",
      "metadata": {
        "colab": {
          "base_uri": "https://localhost:8080/"
        },
        "id": "qE8cQUfZyp-S",
        "outputId": "b1e6fbf1-1ea2-4c36-ffc5-4bfe8d828b7c"
      },
      "source": [
        "Nominal_data_val, Nominal_data_test_r = Percent_data_split(Nominal_data_test, Nominal_data_train, 25, True)\n",
        "print(\"Nominal_data_val\", Nominal_data_val.shape)\n",
        "print(\"Nominal_data_test_r\", Nominal_data_test_r.shape)\n",
        "print(\"Nominal_data_test\", Nominal_data_val.shape[0] + Nominal_data_test_r.shape[0])\n",
        "\n",
        "IR_data_val, IR_data_test_r = Percent_data_split(IR_data_test, IR_data_train, 25, True)\n",
        "print(\"IR_data_val\", IR_data_val.shape)\n",
        "print(\"IR_data_test_r\", IR_data_test_r.shape)\n",
        "print(\"IR_data_test\", IR_data_val.shape[0] + IR_data_test_r.shape[0])\n",
        "\n",
        "OR_data_val, OR_data_test_r = Percent_data_split(OR_data_test, OR_data_train, 25, True)\n",
        "print(\"OR_data_val\", OR_data_val.shape)\n",
        "print(\"OR_data_test_r\", OR_data_test_r.shape)\n",
        "print(\"OR_data_test\", OR_data_val.shape[0] + OR_data_test_r.shape[0])"
      ],
      "execution_count": null,
      "outputs": [
        {
          "output_type": "stream",
          "text": [
            "Nominal_data_val (43945,)\n",
            "Nominal_data_test_r (1538083,)\n",
            "Nominal_data_test 1582028\n",
            "IR_data_val (25634,)\n",
            "IR_data_test_r (897216,)\n",
            "IR_data_test 922850\n",
            "OR_data_val (47607,)\n",
            "OR_data_test_r (1666256,)\n",
            "OR_data_test 1713863\n"
          ],
          "name": "stdout"
        }
      ]
    },
    {
      "cell_type": "code",
      "metadata": {
        "id": "eIMwjzM02ffB",
        "colab": {
          "base_uri": "https://localhost:8080/",
          "height": 307
        },
        "outputId": "f4a2601a-94de-4312-c917-c9558f0ed64a"
      },
      "source": [
        "rounded_psr_1 = int(psr_1/10)\n",
        "range_of_samples = range(0, rounded_psr_1)\n",
        "rounded_psr_3 = int(psr_3/10)\n",
        "range_of_samples_3 = range(0, rounded_psr_3)\n",
        "\n",
        "fig, (plt1, plt2, plt3) = plt.subplots(1, 3, sharey = True, figsize=(12,4), constrained_layout=True)\n",
        "\n",
        "plt1.set_xlabel(\"time $(s)$\")\n",
        "plt1.set_ylabel(\"acceleration $(m/s^2)$\")\n",
        "plt1.set_title('Nominal state (No Fault)')\n",
        "plt1.plot(Nominal_data[range_of_samples])\n",
        "\n",
        "plt2.set_xlabel(\"time $(s)$\")\n",
        "plt2.set_ylabel(\"acceleration $(m/s^2)$\")\n",
        "plt2.set_title('Outer Race fault (Fixed & Variable Load)')\n",
        "plt2.plot(merged_G_OR_data[range_of_samples_3])\n",
        "\n",
        "plt3.set_xlabel(\"time $(s)$\")\n",
        "plt3.set_ylabel(\"acceleration $(m/s^2)$\")\n",
        "plt3.set_title('Inner Race fault (7 Conditions & Variable Load)')\n",
        "plt3.plot(IR_data[range_of_samples_3])\n",
        "\n",
        "fig.suptitle('Acceleration Data - train')\n",
        "fig.show()"
      ],
      "execution_count": null,
      "outputs": [
        {
          "output_type": "display_data",
          "data": {
            "image/png": "[encoded data removed]",
            "text/plain": [
              "<Figure size 864x288 with 3 Axes>"
            ]
          },
          "metadata": {
            "tags": [],
            "needs_background": "light"
          }
        }
      ]
    },
    {
      "cell_type": "code",
      "metadata": {
        "id": "LYEyL_hkXikK",
        "colab": {
          "base_uri": "https://localhost:8080/",
          "height": 295
        },
        "outputId": "8e5f8e59-ca78-4e67-ae9e-7c4aef5d6c80"
      },
      "source": [
        "#Unfiltered Spectrogram\n",
        "from scipy import signal\n",
        "f, t, Sxx = signal.spectrogram(merged_G_3BL_data, psr1)\n",
        "#plt.plot(Sxx)\n",
        "plt.pcolormesh(t, f, Sxx, shading='flat')\n",
        "plt.ylabel('Frequency [Hz]')\n",
        "plt.xlabel('Time [sec]')\n",
        "plt.title('Spectrogram without edit - Nominal state (No Fault)')\n",
        "plt.show()"
      ],
      "execution_count": null,
      "outputs": [
        {
          "output_type": "display_data",
          "data": {
            "image/png": "[encoded data removed]",
            "text/plain": [
              "<Figure size 432x288 with 1 Axes>"
            ]
          },
          "metadata": {
            "tags": [],
            "needs_background": "light"
          }
        }
      ]
    },
    {
      "cell_type": "code",
      "metadata": {
        "id": "Nvh9EjKdbPkc",
        "colab": {
          "base_uri": "https://localhost:8080/",
          "height": 379
        },
        "outputId": "f6ad6514-dbe5-4c55-8b59-5d09f7b80ce0"
      },
      "source": [
        "#Unfiltered Spectrogram\n",
        "from scipy import signal\n",
        "fig, (plt1, plt2) = plt.subplots(1, 2, sharey = True, figsize=(12,5), constrained_layout=True)\n",
        "\n",
        "plt1.set_xlabel(\"Time $(sec)$\")\n",
        "plt1.set_ylabel(\"Frequency $(Hz)$\")\n",
        "plt1.set_title('Outer Race fault (Fixed & Variable Load)')\n",
        "f1, t1, Sxx1 = signal.spectrogram(merged_G_OR_data, psr3)\n",
        "plt1.pcolormesh(t1, f1, Sxx1, shading='flat')\n",
        "\n",
        "plt2.set_xlabel(\"Time $(sec)$\")\n",
        "plt2.set_ylabel(\"Frequency $(Hz)$\")\n",
        "plt2.set_title('Inner Race fault (7 Conditions & Variable Load)')\n",
        "f2, t2, Sxx2 = signal.spectrogram(merged_G_IR_data, psr3)\n",
        "plt2.pcolormesh(t2, f2, Sxx2, shading='flat')\n",
        "\n",
        "fig.suptitle('Spectrogram without edit')\n",
        "fig.show()"
      ],
      "execution_count": null,
      "outputs": [
        {
          "output_type": "display_data",
          "data": {
            "image/png": "[encoded data removed]",
            "text/plain": [
              "<Figure size 864x360 with 2 Axes>"
            ]
          },
          "metadata": {
            "tags": [],
            "needs_background": "light"
          }
        }
      ]
    },
    {
      "cell_type": "markdown",
      "metadata": {
        "id": "g5RiDHY5udzO"
      },
      "source": [
        "##Building the CNN "
      ]
    },
    {
      "cell_type": "markdown",
      "metadata": {
        "id": "tAa-EVVXkdT8"
      },
      "source": [
        "\n",
        "\n",
        "###Data Chunking \n",
        "* Divide the signal in chunks of size chunk_size, and \n",
        "take a subset number_of_chunks from all the available for training and testing the CNN.\n",
        "* A chunk is simply a sequential subset of the time series data with a fixed length - the chunk_size.\n",
        "* Every chunk is distinct - no overlapping samples in different chunks.\n",
        "* This method is tumbling time windowing\n",
        "* Each time series is an array, and they have slight difference in length.\n",
        "* If a chunk size is fixed to divide the file, \n",
        "\n",
        "\n",
        "a function is needed to split the data exaclty in number_of_chunks of chunk_size and get rid of the remaining part.\n",
        "\n",
        "---\n",
        "\n",
        "This is a better method since directly making an image from the dataset is inefficient. The entire dataset has many different points and it is very time consuming to upload all the points."
      ]
    },
    {
      "cell_type": "code",
      "metadata": {
        "id": "V3KN4zPtAzGA"
      },
      "source": [
        "def split_exact(x, n_chunks=2, axis=1):\n",
        "    import numpy as np\n",
        "    l = np.shape(x)[axis]\n",
        "    x_split = x\n",
        "    if l > n_chunks > 1:\n",
        "        n = n_chunks\n",
        "        if axis == 0:\n",
        "            x_split = np.split(x[:-(l % n)], n, axis=axis)\n",
        "        elif axis == 1:\n",
        "            x_split = np.split(x[:, :-(l % n)], n, axis=axis)\n",
        "    return x_split "
      ],
      "execution_count": null,
      "outputs": []
    },
    {
      "cell_type": "markdown",
      "metadata": {
        "id": "TLRQqa6Ey2NT"
      },
      "source": [
        "Function for loading g data in CHUNKS"
      ]
    },
    {
      "cell_type": "code",
      "metadata": {
        "id": "aAjG0eI9pxsk"
      },
      "source": [
        "import numpy as np\n",
        "\n",
        "def g_data_chunkSplit(gdata, chunk_size=128):\n",
        "    \"\"\"\n",
        "    Change loaded mat files and splits it in chunks of size chunk_size\n",
        "    \"\"\"\n",
        "    y_n: ndarray = np.array([])\n",
        "    # signal\n",
        "    x = gdata\n",
        "    x = x / np.std(x)\n",
        "    y_n = np.append(y_n, x)\n",
        "    n_splits = len(y_n) // chunk_size\n",
        "    y_n = split_exact(y_n, n_chunks=n_splits, axis=0)\n",
        "\n",
        "    return y_n"
      ],
      "execution_count": null,
      "outputs": []
    },
    {
      "cell_type": "markdown",
      "metadata": {
        "id": "CL1ZrIawwc2r"
      },
      "source": [
        "Two chunk sizes and number of chunks as there are two different SR"
      ]
    },
    {
      "cell_type": "code",
      "metadata": {
        "id": "ApfZINOay27_",
        "colab": {
          "base_uri": "https://localhost:8080/"
        },
        "outputId": "e67b7808-b10d-4474-e1c9-9077c9f61542"
      },
      "source": [
        "chunk_size_1 = rounded_psr_1\n",
        "print(\"First rounded sampling rate\", rounded_psr_1)\n",
        "number_of_chunks_1 = chunk_size_1 + 200\n",
        "\n",
        "chunk_size_2 = rounded_psr_3\n",
        "print(\"Second rounded sampling rate\", rounded_psr_3)\n",
        "number_of_chunks_2 = chunk_size_2 + 200\n",
        "\n",
        "nominal_data_chunk_train = g_data_chunkSplit(Nominal_data_train, chunk_size=chunk_size_1)\n",
        "print(\"nominal_data_chunk_train\", np.shape(nominal_data_chunk_train))\n",
        "ir_data_chunk_train =  g_data_chunkSplit(IR_data_train, chunk_size=chunk_size_2)\n",
        "print(\"ir_data_chunk_train\", np.shape(ir_data_chunk_train)) \n",
        "or_data_chunk_train =  g_data_chunkSplit(OR_data_train, chunk_size=chunk_size_2)\n",
        "print(\"or_data_chunk_train\", np.shape(or_data_chunk_train)) \n",
        "\n",
        "#nominal_data_chunk_val = g_data_chunkSplit(Nominal_data_val, chunk_size=chunk_size_1)\n",
        "#print(np.shape(nominal_data_chunk_val)) \n",
        "#or_data_chunk_val =  g_data_chunkSplit(OR_data_val, chunk_size=chunk_size_2)\n",
        "#print(np.shape(or_data_chunk_val)) \n",
        "#ir_data_chunk_val =  g_data_chunkSplit(IR_data_val, chunk_size=chunk_size_2)\n",
        "#print(np.shape(ir_data_chunk_val))\n",
        "\n",
        "nominal_data_chunk_test = g_data_chunkSplit(Nominal_data_test, chunk_size=chunk_size_1)\n",
        "print(\"nominal_data_chunk_test\", np.shape(nominal_data_chunk_test)) \n",
        "ir_data_chunk_test =  g_data_chunkSplit(IR_data_test, chunk_size=chunk_size_2)\n",
        "print(\"ir_data_chunk_test\", np.shape(ir_data_chunk_test))\n",
        "or_data_chunk_test =  g_data_chunkSplit(OR_data_test, chunk_size=chunk_size_2)\n",
        "print(\"or_data_chunk_test\", np.shape(or_data_chunk_test))"
      ],
      "execution_count": null,
      "outputs": [
        {
          "output_type": "stream",
          "text": [
            "First rounded sampling rate 9765\n",
            "Second rounded sampling rate 4882\n",
            "nominal_data_chunk_train (18, 9765)\n",
            "ir_data_chunk_train (21, 4882)\n",
            "or_data_chunk_train (39, 4882)\n",
            "nominal_data_chunk_test (162, 9765)\n",
            "ir_data_chunk_test (189, 4882)\n",
            "or_data_chunk_test (351, 4882)\n"
          ],
          "name": "stdout"
        }
      ]
    },
    {
      "cell_type": "markdown",
      "metadata": {
        "id": "MZvB29Q6p3qf"
      },
      "source": [
        "###1. Feature Engineering\n",
        "  \n",
        "  i. A time/frequency image is extracted with three different preprocessing techniques. \n",
        " \n",
        "  ii. For all the images a min max normalization is used, to have mapping only in the range [0,1]."
      ]
    },
    {
      "cell_type": "code",
      "metadata": {
        "id": "mvae2XjfpO8D"
      },
      "source": [
        "def min_max_norm(ary):\n",
        "    ary = (ary - ary.min()) / np.abs(ary.max() - ary.min())\n",
        "    return ary"
      ],
      "execution_count": null,
      "outputs": []
    },
    {
      "cell_type": "markdown",
      "metadata": {
        "id": "n0V5q1SrqSTL"
      },
      "source": [
        "###2. Short Time Fourier Transform\n",
        "\n",
        "The function generate_spectrogram_image(data_y_vector, image_shape) takes \n",
        "\n",
        "  (i) a time series as input and \n",
        "  \n",
        "  (ii) the resolution of the image that it will generate and \n",
        "  \n",
        "  (iii) returns the Short time Fourier normalized in the range [0,1]."
      ]
    },
    {
      "cell_type": "code",
      "metadata": {
        "id": "RHkL0OzWqasT"
      },
      "source": [
        "from scipy import signal\n",
        "from skimage.transform import resize\n",
        "\n",
        "def generate_spectrogram_image(data_y_vector, image_shape, fs):\n",
        "    \"\"\"\n",
        "    Calculate the spectrogram of an array data_y_vector and resize it in \n",
        "    the image_shape resolution\n",
        "    \"\"\"\n",
        "    data_y_vector_len = np.shape(data_y_vector)\n",
        "    #display(data_y_vector_len)\n",
        "\n",
        "    f, t, sxx = signal.spectrogram(\n",
        "        data_y_vector,\n",
        "        fs)\n",
        "\n",
        "    sxx = min_max_norm(sxx)\n",
        "    #Reshape to resolution\n",
        "    sxx = resize(sxx, image_shape, mode='constant', anti_aliasing=True)\n",
        "\n",
        "    return sxx"
      ],
      "execution_count": null,
      "outputs": []
    },
    {
      "cell_type": "code",
      "metadata": {
        "id": "SGAfmfdyKMUg",
        "colab": {
          "base_uri": "https://localhost:8080/",
          "height": 311
        },
        "outputId": "2f89ed9c-da2b-4e49-cdd4-8c04dcec34a6"
      },
      "source": [
        "#Test - higher resolution\n",
        "plt.xlabel(\"time $(s)$\")\n",
        "plt.ylabel(\"frequency $(Hz)$\")\n",
        "plt.title('Outer Race fault (Fixed & Variable Load)')\n",
        "plt.plot(generate_spectrogram_image(or_data_chunk_train[1], (128, 128), psr_3))\n",
        "plt.suptitle('Time-Frequency Image')\n",
        "plt.show()"
      ],
      "execution_count": null,
      "outputs": [
        {
          "output_type": "display_data",
          "data": {
            "image/png": "[encoded data removed]",
            "text/plain": [
              "<Figure size 432x288 with 1 Axes>"
            ]
          },
          "metadata": {
            "tags": [],
            "needs_background": "light"
          }
        }
      ]
    },
    {
      "cell_type": "markdown",
      "metadata": {
        "id": "DixYnwKUrdo6"
      },
      "source": [
        "A look at the Short Time Fourier Transform of a chunk of the data Nominal, Fixed & Variable Load OR and IR:"
      ]
    },
    {
      "cell_type": "code",
      "metadata": {
        "id": "_8fgmA6erHqk",
        "colab": {
          "base_uri": "https://localhost:8080/",
          "height": 307
        },
        "outputId": "b0426412-5f24-400b-c43b-bc5b7adf73c4"
      },
      "source": [
        "fig, (plt1, plt2, plt3) = plt.subplots(1, 3, sharey = True, figsize=(12,4), constrained_layout=True)\n",
        "\n",
        "plt1.set_xlabel(\"time $(s)$\")\n",
        "plt1.set_ylabel(\"frequency $(Hz)$\")\n",
        "plt1.set_title('Nominal state (No Fault)')\n",
        "plt1.pcolormesh(generate_spectrogram_image(nominal_data_chunk_train[1], (96, 96), psr_1), shading='flat')\n",
        "\n",
        "plt2.set_xlabel(\"time $(s)$\")\n",
        "plt2.set_ylabel(\"frequency $(Hz)$\")\n",
        "plt2.set_title('Outer Race fault (Fixed & Variable Load)')\n",
        "plt2.pcolormesh(generate_spectrogram_image(or_data_chunk_train[1], (96, 96), psr_3), shading='flat')\n",
        "\n",
        "plt3.set_xlabel(\"time $(s)$\")\n",
        "plt3.set_ylabel(\"frequency $(Hz)$\")\n",
        "plt3.set_title('Inner Race fault (7 Conditions & Variable Load)')\n",
        "plt3.pcolormesh(generate_spectrogram_image(ir_data_chunk_train[1], (96, 96), psr_3), shading='flat')\n",
        "\n",
        "fig.suptitle('Short Time Fourier Transform - Resolution (96 X 96) - train')\n",
        "fig.show()"
      ],
      "execution_count": null,
      "outputs": [
        {
          "output_type": "display_data",
          "data": {
            "image/png": "[encoded data removed]",
            "text/plain": [
              "<Figure size 864x288 with 3 Axes>"
            ]
          },
          "metadata": {
            "tags": [],
            "needs_background": "light"
          }
        }
      ]
    },
    {
      "cell_type": "markdown",
      "metadata": {
        "id": "b7cHEycYsYbu"
      },
      "source": [
        "###4. Data shuffling\n",
        "  * Create several images to use to train the CNN.\n",
        "  * Some functions needed to help in creating the folders in which the images will be stored, and to label correctly the file generated, depending on the parameters chosen, such as number_of_chunks, chunk_size, image_shape in dpi.\n",
        "  * A random shuffling implemented between the chunks at this stage, to avoid that the CNN is trained on images that are representative of adjacent time windows.\n"
      ]
    },
    {
      "cell_type": "code",
      "metadata": {
        "id": "_VMMoEE4uZ64"
      },
      "source": [
        "def try_make_directories():     \n",
        "    data_directories = [\"npy_dataset\"]\n",
        "    for directory in data_directories:\n",
        "        try:\n",
        "            os.makedirs(f'./{directory}')\n",
        "        except OSError as e:\n",
        "            if e.errno != errno.EEXIST:\n",
        "                raise"
      ],
      "execution_count": null,
      "outputs": []
    },
    {
      "cell_type": "markdown",
      "metadata": {
        "id": "IauLbYc59aUr"
      },
      "source": [
        "####TRANSFER LEARNING\n",
        "\n",
        "Separating creating image for either - \n",
        "\"train\" or \"test\" with data_type variable\n",
        "\n"
      ]
    },
    {
      "cell_type": "code",
      "metadata": {
        "id": "vWOS0m3GgwZm"
      },
      "source": [
        "from tqdm.notebook import tqdm\n",
        "from enum import Enum\n",
        "#\n",
        "def create_image_by_label_database(\n",
        "        data_type,\n",
        "        image_types,\n",
        "        image_shape,\n",
        "        noise_scale = 0.0,\n",
        "        shuffle_across_time=True,\n",
        "        overwrite_existing_file=False):\n",
        "\n",
        "    try_make_directories()\n",
        "\n",
        "    filename_for_images_by_labels = npy_dataset_filename(\n",
        "        data_type,\n",
        "        image_types,\n",
        "        image_shape,\n",
        "        noise_scale, \n",
        "        shuffle_across_time\n",
        "    )\n",
        "\n",
        "    if overwrite_existing_file is False:\n",
        "        import os\n",
        "        if os.path.isfile(filename_for_images_by_labels):\n",
        "            print(\n",
        "                \"File already exists. Use 'overwrite_existing_file' if you wish to regenerate and overwrite it. Bye.\")\n",
        "            return\n",
        "#   \n",
        "    if data_type == \"train\":\n",
        "      len_n = np.shape(nominal_data_chunk_train)[0]\n",
        "      len_ir = np.shape(ir_data_chunk_train)[0]\n",
        "      len_or = np.shape(or_data_chunk_train)[0]\n",
        "      len_data = min(len_n, len_or, len_ir, number_of_chunks_1, number_of_chunks_2)\n",
        "      #display(len_n, len_or, len_ir)\n",
        "      # add some noise \n",
        "      #nominal_data = [x + y for x, y in zip(nominal_data_chunk_train, [np.random.normal(0, noise_scale, chunk_size_1) for i in range(len_n)])]\n",
        "      #or_data = [x + y for x, y in zip(or_data_chunk_train, [np.random.normal(0, noise_scale, chunk_size_2) for i in range(len_or)])]\n",
        "      #ir_data = [x + y for x, y in zip(ir_data_chunk_train, [np.random.normal(0, noise_scale, chunk_size_2) for i in range(len_ir)])]\n",
        "      nominal_data = nominal_data_chunk_train\n",
        "      ir_data = ir_data_chunk_train\n",
        "      or_data = or_data_chunk_train\n",
        "      \n",
        "    elif data_type == \"validation\":\n",
        "      len_n = np.shape(nominal_data_chunk_val)[0]\n",
        "      len_ir = np.shape(ir_data_chunk_val)[0]\n",
        "      len_or = np.shape(or_data_chunk_val)[0]\n",
        "      len_data = min(len_n, len_or, len_ir, number_of_chunks_1, number_of_chunks_2)\n",
        "      #display(len_n, len_or, len_ir)\n",
        "      # add some noise \n",
        "      #nominal_data = [x + y for x, y in zip(nominal_data_chunk_test, [np.random.normal(0, noise_scale, chunk_size_1) for i in range(len_n)])]\n",
        "      #or_data = [x + y for x, y in zip(or_data_chunk_test, [np.random.normal(0, noise_scale, chunk_size_2) for i in range(len_or)])]\n",
        "      #ir_data = [x + y for x, y in zip(ir_data_chunk_test, [np.random.normal(0, noise_scale, chunk_size_2) for i in range(len_ir)])]\n",
        "      nominal_data = nominal_data_chunk_val\n",
        "      ir_data = ir_data_chunk_val\n",
        "      or_data = or_data_chunk_val\n",
        "\n",
        "    elif data_type == \"test\":\n",
        "      len_n = np.shape(nominal_data_chunk_test)[0]\n",
        "      len_ir = np.shape(ir_data_chunk_test)[0]\n",
        "      len_or = np.shape(or_data_chunk_test)[0]\n",
        "      len_data = min(len_n, len_or, len_ir, number_of_chunks_1, number_of_chunks_2)\n",
        "      #display(len_n, len_or, len_ir)\n",
        "      # add some noise \n",
        "      #nominal_data = [x + y for x, y in zip(nominal_data_chunk_test, [np.random.normal(0, noise_scale, chunk_size_1) for i in range(len_n)])]\n",
        "      #or_data = [x + y for x, y in zip(or_data_chunk_test, [np.random.normal(0, noise_scale, chunk_size_2) for i in range(len_or)])]\n",
        "      #ir_data = [x + y for x, y in zip(ir_data_chunk_test, [np.random.normal(0, noise_scale, chunk_size_2) for i in range(len_ir)])]\n",
        "      nominal_data = nominal_data_chunk_test\n",
        "      ir_data = ir_data_chunk_test\n",
        "      or_data = or_data_chunk_test\n",
        "    \n",
        "    if shuffle_across_time:\n",
        "        # so the first N chunks will be taken at random time from the whole time window\n",
        "        np.random.shuffle(nominal_data)\n",
        "        np.random.shuffle(ir_data)\n",
        "        np.random.shuffle(or_data)\n",
        "        \n",
        "    images_by_labels = {'n': [], 'ir': [], 'or': []}\n",
        "    #display(int(len_data))\n",
        "    for i in tqdm(range(int(len_n))):\n",
        "        #display(len(nominal_data), nominal_data[i].shape)\n",
        "        n_images = generate_rgba_images_from_data(nominal_data[i], image_shape, image_types, psr_1)\n",
        "\n",
        "        images_by_labels['n'].extend(n_images)\n",
        "\n",
        "    for i in tqdm(range(int(len_ir))):\n",
        "        #display(len(nominal_data), nominal_data[i].shape)\n",
        "        ir_images = generate_rgba_images_from_data(ir_data[i], image_shape, image_types, psr_3)      \n",
        "\n",
        "        images_by_labels['ir'].extend(ir_images)\n",
        "        \n",
        "    for i in tqdm(range(int(len_or))):\n",
        "        #display(len(nominal_data), nominal_data[i].shape)\n",
        "        or_images = generate_rgba_images_from_data(or_data[i], image_shape, image_types, psr_3)  \n",
        "\n",
        "        images_by_labels['or'].extend(or_images)\n",
        "\n",
        "    print(f'Saving {filename_for_images_by_labels}')\n",
        "    np.save(f'{filename_for_images_by_labels}', images_by_labels)\n",
        "        \n",
        "#\n",
        "def npy_dataset_filename(\n",
        "        data_type,\n",
        "        image_types,\n",
        "        image_shape,\n",
        "        noise_scale,\n",
        "        shuffled_across_time):\n",
        "    filename_suffix = \\\n",
        "        (f'_data_{data_type}') + \\\n",
        "        f'_types{\"-\".join([str(t)[10:12] for t in image_types])}' + \\\n",
        "        (f'_noise{noise_scale}' if noise_scale > 0 else '') + \\\n",
        "        (f'_timeshuffled' if shuffled_across_time else '') + \\\n",
        "        f'_shape{image_shape[0]}-{image_shape[1]}'\n",
        "    filename = f'./npy_dataset/images_by_labels_for_cnn{filename_suffix}.npy'\n",
        "    return filename\n",
        "#\n",
        "#\n",
        "def generate_rgba_images_from_data(\n",
        "        vector_y_data,\n",
        "        image_shape,\n",
        "        image_types, fs2):\n",
        "    images = []\n",
        "    if ImageType.SPECTROGRAM in image_types:\n",
        "        images.append(generate_spectrogram_image(vector_y_data, image_shape, fs2))\n",
        "\n",
        "    images_rgba = ary_to_rgba(images)\n",
        "\n",
        "    return images_rgba\n",
        "#\n",
        "#\n",
        "def ary_to_rgba(ary, nchannels=1):\n",
        "    from matplotlib import cm\n",
        "\n",
        "    ary_dim = (np.shape(ary))\n",
        "\n",
        "    im = np.empty(shape=(ary_dim[0], ary_dim[1], ary_dim[2], nchannels)).astype('uint8')\n",
        "    for i in np.arange(0, len(ary)):\n",
        "        im[i, :] = np.log(ary[i] + 1e-6).reshape(ary_dim[0], ary_dim[1], ary_dim[2], nchannels)\n",
        "    return im\n",
        "#\n",
        "\n",
        "class ImageType(Enum):\n",
        "    SCALOGRAM = 1\n",
        "    SPECTROGRAM = 2\n",
        "    QTRANSFORM = 3"
      ],
      "execution_count": null,
      "outputs": []
    },
    {
      "cell_type": "markdown",
      "metadata": {
        "id": "52MgLRZvrFiv"
      },
      "source": [
        "Added noise \"noise_scale = 0.0\" for std deviation of 0.0 or not"
      ]
    },
    {
      "cell_type": "code",
      "metadata": {
        "id": "GdmDf7ef231u",
        "colab": {
          "base_uri": "https://localhost:8080/",
          "height": 186,
          "referenced_widgets": [
            "09100ec0e8b1438899974684a1b891c6",
            "fa8047f7a3224e808c045629e4d38190",
            "4ec441a68cef4b81b7de255d551758fa",
            "6d28a8963bb64cffa8e83cb48834dae5",
            "b6fdcc563dd343199eed19487ad72a8e",
            "3259733a852e4751bbf9ecf76bd01dd6",
            "1bd80448a43046b6ac0cd0a5d00e133c",
            "6d7cdf16636f46ff85802607b50ca869",
            "646fa9c9e76a4617a8e3bdd9c9e66d00",
            "34acc545f1ef4079a276ce8bde979b53",
            "0c5cd6d7d7c248bf90bda458514b44e9",
            "1d5ed633170c4a21a2f3af9e82d7f498",
            "7205ff316a7d494b96a41b9026e8fb1e",
            "b4790925f116464dbea9dde2dcd0d01a",
            "6998bd5de1b14dc9b39f56d2ad7c0b95",
            "009367cb27dd4e7289450933aed8064a",
            "1cd81a7d0387422e8d38850f59aaeef0",
            "a1094d78086f42cca125a736498f5875",
            "eb7c4c7a41ca455ab5db190541b2b5b5",
            "a905c1bc3d7c4fbc9b0d22f3795933ac",
            "4b22bda55a3a467597fb26adf27b0bd9",
            "1247f0fe8a6842b3a6175b29515c6e90",
            "d976673b356747db8d03cb8e06096b55",
            "641f547346f346ebb18d4b8e7514dc01"
          ]
        },
        "outputId": "3413d80a-95bd-4732-c21c-81314d315650"
      },
      "source": [
        "create_image_by_label_database(\n",
        "    data_type = \"train\",\n",
        "    image_types=[ImageType.SPECTROGRAM], \n",
        "    image_shape=(96, 96),\n",
        "    noise_scale = 0.0,\n",
        "    shuffle_across_time=True,\n",
        "    overwrite_existing_file=True)"
      ],
      "execution_count": null,
      "outputs": [
        {
          "output_type": "display_data",
          "data": {
            "application/vnd.jupyter.widget-view+json": {
              "model_id": "09100ec0e8b1438899974684a1b891c6",
              "version_minor": 0,
              "version_major": 2
            },
            "text/plain": [
              "HBox(children=(FloatProgress(value=0.0, max=18.0), HTML(value='')))"
            ]
          },
          "metadata": {
            "tags": []
          }
        },
        {
          "output_type": "stream",
          "text": [
            "\n"
          ],
          "name": "stdout"
        },
        {
          "output_type": "display_data",
          "data": {
            "application/vnd.jupyter.widget-view+json": {
              "model_id": "646fa9c9e76a4617a8e3bdd9c9e66d00",
              "version_minor": 0,
              "version_major": 2
            },
            "text/plain": [
              "HBox(children=(FloatProgress(value=0.0, max=21.0), HTML(value='')))"
            ]
          },
          "metadata": {
            "tags": []
          }
        },
        {
          "output_type": "stream",
          "text": [
            "\n"
          ],
          "name": "stdout"
        },
        {
          "output_type": "display_data",
          "data": {
            "application/vnd.jupyter.widget-view+json": {
              "model_id": "1cd81a7d0387422e8d38850f59aaeef0",
              "version_minor": 0,
              "version_major": 2
            },
            "text/plain": [
              "HBox(children=(FloatProgress(value=0.0, max=39.0), HTML(value='')))"
            ]
          },
          "metadata": {
            "tags": []
          }
        },
        {
          "output_type": "stream",
          "text": [
            "\n",
            "Saving ./npy_dataset/images_by_labels_for_cnn_data_train_typesSP_timeshuffled_shape96-96.npy\n"
          ],
          "name": "stdout"
        }
      ]
    },
    {
      "cell_type": "code",
      "metadata": {
        "id": "Wz-GoTok2H7b"
      },
      "source": [
        "create_image_by_label_database(\n",
        "    data_type = \"validation\",\n",
        "    image_types=[ImageType.SPECTROGRAM], \n",
        "    image_shape=(96, 96),\n",
        "    noise_scale = 0.0,\n",
        "    shuffle_across_time=True,\n",
        "    overwrite_existing_file=True)"
      ],
      "execution_count": null,
      "outputs": []
    },
    {
      "cell_type": "code",
      "metadata": {
        "id": "oILRghgE74F9",
        "colab": {
          "base_uri": "https://localhost:8080/",
          "height": 186,
          "referenced_widgets": [
            "ff3d814f075743cf9122c659a6df574f",
            "1343e30dcbda404a9ec3deb9e2c42541",
            "42a6161b9b8541e2a40bb5397aca3639",
            "c35d8b62dc184f9b93bcf38742489fe9",
            "fe00c96125a640c287b5fb929de17e37",
            "d9c5cfc4894d43b2a3102c91bf0cb7d5",
            "6352ee5de2e64d2cb187f46a7ba4b39c",
            "d453e9ede93144949b35aef3bcb6cb89",
            "c481c2bd227e4d5c9798c0e6ed51dcd2",
            "3b89947cefba461d8c786b7e4d75ac4b",
            "3a9621e5dc914f5588b12e3bd66d485a",
            "62cb81acb6b644beae030a42e7e2525b",
            "a6d21151cc68490ab7bebf980a536305",
            "165c7c3c1f724fe4b8959af91a57bfda",
            "84cc555113fc4f88a7a7166995ccb170",
            "cc7d3f9467234e1c99d9db8452aa3690",
            "ee42639244cb46368c224ff452504c20",
            "a4df1968161143e3a70d59c7b2b36cb1",
            "cd16b3176d9f4d43b4d7e9593e54ae3d",
            "6174f9284e5b4f4e88ea65f77dee89fc",
            "f826b8dfcc8942698123834a61edd562",
            "74dde29833174b25816ff513a6eb015f",
            "c3f2bb0717664a3a95a663fadc27ed11",
            "c357e89d8b164a998a96758c30fca149"
          ]
        },
        "outputId": "c59a035b-42f4-4045-d3d5-7903242ed5c2"
      },
      "source": [
        "create_image_by_label_database(\n",
        "    data_type = \"test\",\n",
        "    image_types=[ImageType.SPECTROGRAM], \n",
        "    image_shape=(96, 96),\n",
        "    noise_scale = 0.0,\n",
        "    shuffle_across_time=True,\n",
        "    overwrite_existing_file=True)"
      ],
      "execution_count": null,
      "outputs": [
        {
          "output_type": "display_data",
          "data": {
            "application/vnd.jupyter.widget-view+json": {
              "model_id": "ff3d814f075743cf9122c659a6df574f",
              "version_minor": 0,
              "version_major": 2
            },
            "text/plain": [
              "HBox(children=(FloatProgress(value=0.0, max=162.0), HTML(value='')))"
            ]
          },
          "metadata": {
            "tags": []
          }
        },
        {
          "output_type": "stream",
          "text": [
            "\n"
          ],
          "name": "stdout"
        },
        {
          "output_type": "display_data",
          "data": {
            "application/vnd.jupyter.widget-view+json": {
              "model_id": "c481c2bd227e4d5c9798c0e6ed51dcd2",
              "version_minor": 0,
              "version_major": 2
            },
            "text/plain": [
              "HBox(children=(FloatProgress(value=0.0, max=189.0), HTML(value='')))"
            ]
          },
          "metadata": {
            "tags": []
          }
        },
        {
          "output_type": "stream",
          "text": [
            "\n"
          ],
          "name": "stdout"
        },
        {
          "output_type": "display_data",
          "data": {
            "application/vnd.jupyter.widget-view+json": {
              "model_id": "ee42639244cb46368c224ff452504c20",
              "version_minor": 0,
              "version_major": 2
            },
            "text/plain": [
              "HBox(children=(FloatProgress(value=0.0, max=351.0), HTML(value='')))"
            ]
          },
          "metadata": {
            "tags": []
          }
        },
        {
          "output_type": "stream",
          "text": [
            "\n",
            "Saving ./npy_dataset/images_by_labels_for_cnn_data_test_typesSP_timeshuffled_shape96-96.npy\n"
          ],
          "name": "stdout"
        }
      ]
    },
    {
      "cell_type": "markdown",
      "metadata": {
        "id": "CA-RQy4K0-xF"
      },
      "source": [
        "##CNN"
      ]
    },
    {
      "cell_type": "markdown",
      "metadata": {
        "id": "CI9UFBThgUdL"
      },
      "source": [
        "###1. Preparing data Train and Test (Transfer Learning)\n",
        "\n",
        "  A function that loads the images generated. Parameters repeated here for the file generation.\n",
        "\n",
        "Train Image for datatype = \"train\" and Test Image for datatype = \"test\" "
      ]
    },
    {
      "cell_type": "code",
      "metadata": {
        "id": "uHbtYiflg0hV"
      },
      "source": [
        "def load_images_by_labels_by_params(\n",
        "        data_type,\n",
        "        image_types,\n",
        "        image_shape,\n",
        "        noise_scale = 0.0,\n",
        "        shuffled_across_time=True):\n",
        "    filename = npy_dataset_filename(\n",
        "        data_type,\n",
        "        image_types,\n",
        "        image_shape,\n",
        "        noise_scale,\n",
        "        shuffled_across_time)\n",
        "\n",
        "    loaded = np.load(filename, allow_pickle=True)\n",
        "    print(f\"Successfully loaded file {filename}\")\n",
        "    return loaded.item()  # item() gets the actual dictionary from the loaded object"
      ],
      "execution_count": null,
      "outputs": []
    },
    {
      "cell_type": "markdown",
      "metadata": {
        "id": "eySEFkamhAcw"
      },
      "source": [
        "Images loaded with the aid of the previous Function"
      ]
    },
    {
      "cell_type": "code",
      "metadata": {
        "id": "pSezGCjig7jg",
        "colab": {
          "base_uri": "https://localhost:8080/"
        },
        "outputId": "fc8d7f04-85c6-43ec-c15f-8f86479ba739"
      },
      "source": [
        "data_type = \"train\"\n",
        "image_types=[ImageType.SPECTROGRAM]\n",
        "image_shape = (96, 96)\n",
        "noise_scale = 0.0\n",
        "shuffle_across_time=True\n",
        "\n",
        "images_by_labels_for_cnn_train = load_images_by_labels_by_params(\n",
        "    data_type=data_type,\n",
        "    image_types=image_types, \n",
        "    image_shape=image_shape,\n",
        "    noise_scale = noise_scale,\n",
        "    shuffled_across_time = shuffle_across_time)"
      ],
      "execution_count": null,
      "outputs": [
        {
          "output_type": "stream",
          "text": [
            "Successfully loaded file ./npy_dataset/images_by_labels_for_cnn_data_train_typesSP_timeshuffled_shape96-96.npy\n"
          ],
          "name": "stdout"
        }
      ]
    },
    {
      "cell_type": "code",
      "metadata": {
        "id": "CmrSmaNd2jat",
        "colab": {
          "base_uri": "https://localhost:8080/",
          "height": 90
        },
        "outputId": "7b8efae3-657f-4ab8-b187-5b5eaf51326a"
      },
      "source": [
        "print(images_by_labels_for_cnn_train.keys())\n",
        "display(np.shape(images_by_labels_for_cnn_train['n']))\n",
        "display(np.shape(images_by_labels_for_cnn_train['ir']))\n",
        "display(np.shape(images_by_labels_for_cnn_train['or']))"
      ],
      "execution_count": null,
      "outputs": [
        {
          "output_type": "stream",
          "text": [
            "dict_keys(['n', 'ir', 'or'])\n"
          ],
          "name": "stdout"
        },
        {
          "output_type": "display_data",
          "data": {
            "text/plain": [
              "(18, 96, 96, 1)"
            ]
          },
          "metadata": {
            "tags": []
          }
        },
        {
          "output_type": "display_data",
          "data": {
            "text/plain": [
              "(21, 96, 96, 1)"
            ]
          },
          "metadata": {
            "tags": []
          }
        },
        {
          "output_type": "display_data",
          "data": {
            "text/plain": [
              "(39, 96, 96, 1)"
            ]
          },
          "metadata": {
            "tags": []
          }
        }
      ]
    },
    {
      "cell_type": "code",
      "metadata": {
        "id": "ttwcAF5r2RCW"
      },
      "source": [
        "data_type = \"validation\"\n",
        "image_types=[ImageType.SPECTROGRAM]\n",
        "image_shape = (96, 96)\n",
        "noise_scale = 0.0\n",
        "shuffle_across_time=True\n",
        "\n",
        "images_by_labels_for_cnn_val = load_images_by_labels_by_params(\n",
        "    data_type=data_type,\n",
        "    image_types=image_types, \n",
        "    image_shape=image_shape,\n",
        "    noise_scale = noise_scale,\n",
        "    shuffled_across_time = shuffle_across_time)"
      ],
      "execution_count": null,
      "outputs": []
    },
    {
      "cell_type": "code",
      "metadata": {
        "id": "_jlfqNQo2Y7d"
      },
      "source": [
        "print(images_by_labels_for_cnn_val.keys())\n",
        "display(np.shape(images_by_labels_for_cnn_val['n']))\n",
        "display(np.shape(images_by_labels_for_cnn_val['or']))\n",
        "display(np.shape(images_by_labels_for_cnn_val['ir']))"
      ],
      "execution_count": null,
      "outputs": []
    },
    {
      "cell_type": "code",
      "metadata": {
        "id": "6GKK3CjO8_nz",
        "colab": {
          "base_uri": "https://localhost:8080/"
        },
        "outputId": "a9ca4936-bc80-4f9f-f811-d3de26a8199e"
      },
      "source": [
        "data_type = \"test\"\n",
        "image_types=[ImageType.SPECTROGRAM]\n",
        "image_shape = (96, 96)\n",
        "noise_scale = 0.0\n",
        "shuffle_across_time=True\n",
        "\n",
        "images_by_labels_for_cnn_test = load_images_by_labels_by_params(\n",
        "    data_type=data_type,\n",
        "    image_types=image_types, \n",
        "    image_shape=image_shape,\n",
        "    noise_scale = noise_scale,\n",
        "    shuffled_across_time = shuffle_across_time)"
      ],
      "execution_count": null,
      "outputs": [
        {
          "output_type": "stream",
          "text": [
            "Successfully loaded file ./npy_dataset/images_by_labels_for_cnn_data_test_typesSP_timeshuffled_shape96-96.npy\n"
          ],
          "name": "stdout"
        }
      ]
    },
    {
      "cell_type": "code",
      "metadata": {
        "id": "zdZg_5R69DtV",
        "colab": {
          "base_uri": "https://localhost:8080/",
          "height": 90
        },
        "outputId": "1524b092-0238-4331-c4f0-d317a36b802f"
      },
      "source": [
        "print(images_by_labels_for_cnn_test.keys())\n",
        "display(np.shape(images_by_labels_for_cnn_test['n']))\n",
        "display(np.shape(images_by_labels_for_cnn_test['ir']))\n",
        "display(np.shape(images_by_labels_for_cnn_test['or']))"
      ],
      "execution_count": null,
      "outputs": [
        {
          "output_type": "stream",
          "text": [
            "dict_keys(['n', 'ir', 'or'])\n"
          ],
          "name": "stdout"
        },
        {
          "output_type": "display_data",
          "data": {
            "text/plain": [
              "(162, 96, 96, 1)"
            ]
          },
          "metadata": {
            "tags": []
          }
        },
        {
          "output_type": "display_data",
          "data": {
            "text/plain": [
              "(189, 96, 96, 1)"
            ]
          },
          "metadata": {
            "tags": []
          }
        },
        {
          "output_type": "display_data",
          "data": {
            "text/plain": [
              "(351, 96, 96, 1)"
            ]
          },
          "metadata": {
            "tags": []
          }
        }
      ]
    },
    {
      "cell_type": "markdown",
      "metadata": {
        "id": "pm2EgInQ1KAR"
      },
      "source": [
        "###2. Transform the data to a suitable form for feeding to the CNN:\n",
        "\n",
        "  (i) separate the images and their labels into two arrays, correlated by their indexes\n",
        "\n",
        "  (ii) have the labels one-hot encoded (i.e. label \"N\" becomes (0,0,1))\n",
        "\n",
        "  (iii) Additionally, to get a good distribution of data types accross the training and test data, interleave the three types of data, that is to get a single array, containing all the images, where sequential images are always having a different data type (N, OR, or IR) in the form [ ..., \"N\", \"OR\", \"IR\", \"N\", \"OR\", \"IR\", ...]. \n",
        "\n",
        "  (iv) This is implemented in the function separate_images_from_labels:"
      ]
    },
    {
      "cell_type": "code",
      "metadata": {
        "id": "Tz4xFCI4hOq_"
      },
      "source": [
        "def separate_images_from_labels(images_by_labels, interleave: bool):\n",
        "    all_labels = list(images_by_labels.keys())\n",
        "    NB_CLASSES = len(all_labels)\n",
        "    all_labels_onehot = np.identity(NB_CLASSES).astype('uint8')\n",
        "    label_to_onehot_mapper = {all_labels[i]: all_labels_onehot[i] for i in np.arange(NB_CLASSES)}\n",
        "\n",
        "    all_images_for_cnn = []\n",
        "    all_labels_for_cnn_onehot = []\n",
        "\n",
        "    for key in all_labels:\n",
        "        images = images_by_labels[key]\n",
        "        labels_onehot = np.full(shape=(len(images), NB_CLASSES), fill_value=label_to_onehot_mapper[key])\n",
        "\n",
        "        all_images_for_cnn.append(images)\n",
        "        all_labels_for_cnn_onehot.append(labels_onehot)\n",
        "\n",
        "    if interleave:\n",
        "        all_images_for_cnn = lists_interleave(all_images_for_cnn)\n",
        "        all_labels_for_cnn_onehot = lists_interleave(all_labels_for_cnn_onehot)\n",
        "    else:  # flatten the lists\n",
        "        all_images_for_cnn = [image for sublist in all_images_for_cnn for image in sublist]\n",
        "        all_labels_for_cnn_onehot = [label for sublist in all_labels_for_cnn_onehot for label in sublist]\n",
        "\n",
        "    return np.array(all_images_for_cnn), np.array(all_labels_for_cnn_onehot)\n",
        "#Faulty flawed DO NOT USE THIS FUNCTION!!!                               \n",
        "def lists_interleave(lists):\n",
        "    return [val for tup in zip(*lists) for val in tup]"
      ],
      "execution_count": null,
      "outputs": []
    },
    {
      "cell_type": "markdown",
      "metadata": {
        "id": "GvXaOgH23vt3"
      },
      "source": [
        "1. separate images for training set and testing set as per transfer learning\n",
        "\n",
        "2. Validation split is done below"
      ]
    },
    {
      "cell_type": "code",
      "metadata": {
        "id": "I9t_Glr6-KYl",
        "colab": {
          "base_uri": "https://localhost:8080/",
          "height": 109
        },
        "outputId": "837f5835-3486-4562-8774-19aad2f6d084"
      },
      "source": [
        "images_train, labels_train_onehot = separate_images_from_labels(images_by_labels_for_cnn_train, interleave=False)\n",
        "#images_val, labels_val_onehot = separate_images_from_labels(images_by_labels_for_cnn_val, interleave=True)\n",
        "images_test, labels_test_onehot = separate_images_from_labels(images_by_labels_for_cnn_test, interleave=False)\n",
        "#display(labels_for_cnn_onehot)\n",
        "display(type(labels_train_onehot))\n",
        "print(\"images_train\", images_train.shape)\n",
        "print(\"labels_train_onehot\", labels_train_onehot.shape)\n",
        "print(\"images_test\", images_test.shape)\n",
        "print(\"labels_test_onehot\", labels_test_onehot.shape)\n",
        "#display(images_val.shape)"
      ],
      "execution_count": null,
      "outputs": [
        {
          "output_type": "display_data",
          "data": {
            "text/plain": [
              "numpy.ndarray"
            ]
          },
          "metadata": {
            "tags": []
          }
        },
        {
          "output_type": "stream",
          "text": [
            "images_train (78, 96, 96, 1)\n",
            "labels_train_onehot (78, 3)\n",
            "images_test (702, 96, 96, 1)\n",
            "labels_test_onehot (702, 3)\n"
          ],
          "name": "stdout"
        }
      ]
    },
    {
      "cell_type": "markdown",
      "metadata": {
        "id": "PDGY1TLhz0DW"
      },
      "source": [
        "Lists Interleave does not work so random shuffle while keeping the labels for values intact"
      ]
    },
    {
      "cell_type": "code",
      "metadata": {
        "id": "NRlPmgmKuwKz"
      },
      "source": [
        "random_idx = np.random.permutation(np.arange(0,images_train.shape[0]))\n",
        "random_idx_test = np.random.permutation(np.arange(0,images_test.shape[0]))"
      ],
      "execution_count": null,
      "outputs": []
    },
    {
      "cell_type": "code",
      "metadata": {
        "id": "JfEscme6vHmJ"
      },
      "source": [
        "images_train = images_train[random_idx]\n",
        "labels_train_onehot = labels_train_onehot[random_idx]\n",
        "images_test = images_test[random_idx_test]\n",
        "labels_test_onehot = labels_test_onehot[random_idx_test]"
      ],
      "execution_count": null,
      "outputs": []
    },
    {
      "cell_type": "markdown",
      "metadata": {
        "id": "1QaU3SVJ35N7"
      },
      "source": [
        "###3. CNN model with Keras\n",
        "\n",
        "  (a) The problem - a supervised classification problem, with 3 classes. Convolutional Neural Networks implemented as Sequential Keras model. Here Keras exploits TensorFlow as backend for the tensor arithmetics.\n",
        "\n",
        "  (b) The images that previously generated form a tuple (number of images, x dpi, y dpi, number of channels). \n",
        "  \n",
        "  (c) Categorical cross-entropy loss function and ADAM optimizer and Leaky RELU activation function. \n",
        "  \n",
        "  (d) The learning rate has been found by using cyclical learning rate algorithm of Smith. An implementation of the algorithm by Keras callback is in the ./colab folder."
      ]
    },
    {
      "cell_type": "code",
      "metadata": {
        "id": "ax3r-wD44btX"
      },
      "source": [
        "from keras import optimizers\n",
        "\n",
        "## input data parameters\n",
        "IMAGES_SHAPE = (96, 96, 1)\n",
        "#4 input channels\n",
        "PADDING = 'same'\n",
        "KERNEL_SIZE = (3, 3)\n",
        "KERNEL_INITIALIZER = 'glorot_normal'\n",
        "# parameters for deep layers\n",
        "NUMBER_OF_CLASSES = 3  # \"N\", \"IR\", \"OR\"\n",
        "DROPOUT = 0.4\n",
        "LEAK_ALPHA = 0.1  #slope for leaky relu\n",
        "MAX_POOLING_POOL_SIZE = (2, 2)\n",
        "ACTIVATION_LAYER_FUNCTION = 'softmax'\n",
        "# loss and optimizer\n",
        "LOSS_FUNCTION = 'categorical_crossentropy'\n",
        "LEARNING_RATE = 0.001  #Learning rate which is default\n",
        "OPTIMIZER = optimizers.Adam(epsilon=10e-6)"
      ],
      "execution_count": null,
      "outputs": []
    },
    {
      "cell_type": "code",
      "metadata": {
        "id": "U_H1rqAxVoiH",
        "colab": {
          "base_uri": "https://localhost:8080/"
        },
        "outputId": "24ba3a78-d7a7-4b63-9525-e5dfbefb44ae"
      },
      "source": [
        "import keras\n",
        "from keras.models import Sequential\n",
        "from keras.layers.core import Dense, Dropout, Activation, Flatten\n",
        "from keras.layers.convolutional import Conv2D, MaxPooling2D\n",
        "from keras.layers import LeakyReLU\n",
        "from keras import metrics\n",
        "\n",
        "\n",
        "# CNN architecture from Guo et al.\n",
        "model = Sequential()\n",
        "model.add(Conv2D(32, KERNEL_SIZE,                  \n",
        "                 input_shape=IMAGES_SHAPE,\n",
        "                 data_format='channels_last',\n",
        "                 kernel_initializer=KERNEL_INITIALIZER,                 \n",
        "                 padding=PADDING))\n",
        "model.add(LeakyReLU(LEAK_ALPHA))\n",
        "#model.add(Conv2D(32, KERNEL_SIZE, \n",
        "                 #kernel_initializer=KERNEL_INITIALIZER,\n",
        "                 #padding=PADDING))\n",
        "#model.add(LeakyReLU(LEAK_ALPHA))\n",
        "model.add(MaxPooling2D(pool_size=MAX_POOLING_POOL_SIZE))\n",
        "model.add(Conv2D(64, KERNEL_SIZE, \n",
        "                 kernel_initializer=KERNEL_INITIALIZER,\n",
        "                 padding=PADDING))\n",
        "model.add(LeakyReLU(LEAK_ALPHA))\n",
        "#model.add(Conv2D(64, KERNEL_SIZE, \n",
        "                 #kernel_initializer=KERNEL_INITIALIZER,\n",
        "                 #padding=PADDING))\n",
        "#model.add(LeakyReLU(LEAK_ALPHA))\n",
        "model.add(MaxPooling2D(pool_size=MAX_POOLING_POOL_SIZE))\n",
        "model.add(Conv2D(128, KERNEL_SIZE, \n",
        "                 kernel_initializer=KERNEL_INITIALIZER,\n",
        "                 padding=PADDING))\n",
        "model.add(LeakyReLU(LEAK_ALPHA))\n",
        "#model.add(Conv2D(128, KERNEL_SIZE, \n",
        "                 #kernel_initializer=KERNEL_INITIALIZER,\n",
        "                 #padding=PADDING))\n",
        "#model.add(LeakyReLU(LEAK_ALPHA))\n",
        "model.add(MaxPooling2D(pool_size=MAX_POOLING_POOL_SIZE))\n",
        "model.add(Flatten())\n",
        "model.add(Dense(256))#256\n",
        "model.add(LeakyReLU(LEAK_ALPHA))\n",
        "model.add(Dropout(DROPOUT))#added dropout\n",
        "model.add(Dense(128))#128\n",
        "model.add(LeakyReLU(LEAK_ALPHA))\n",
        "model.add(Dropout(DROPOUT))#added dropout\n",
        "model.add(Dense(NUMBER_OF_CLASSES))\n",
        "model.add(Activation(ACTIVATION_LAYER_FUNCTION))\n",
        "\n",
        "\n",
        "model.compile(loss=LOSS_FUNCTION, \n",
        "              optimizer=OPTIMIZER,\n",
        "              metrics=[metrics.categorical_accuracy])  \n",
        "model.summary()"
      ],
      "execution_count": null,
      "outputs": [
        {
          "output_type": "stream",
          "text": [
            "Model: \"sequential_1\"\n",
            "_________________________________________________________________\n",
            "Layer (type)                 Output Shape              Param #   \n",
            "=================================================================\n",
            "conv2d_3 (Conv2D)            (None, 96, 96, 32)        320       \n",
            "_________________________________________________________________\n",
            "leaky_re_lu_5 (LeakyReLU)    (None, 96, 96, 32)        0         \n",
            "_________________________________________________________________\n",
            "max_pooling2d_3 (MaxPooling2 (None, 48, 48, 32)        0         \n",
            "_________________________________________________________________\n",
            "conv2d_4 (Conv2D)            (None, 48, 48, 64)        18496     \n",
            "_________________________________________________________________\n",
            "leaky_re_lu_6 (LeakyReLU)    (None, 48, 48, 64)        0         \n",
            "_________________________________________________________________\n",
            "max_pooling2d_4 (MaxPooling2 (None, 24, 24, 64)        0         \n",
            "_________________________________________________________________\n",
            "conv2d_5 (Conv2D)            (None, 24, 24, 128)       73856     \n",
            "_________________________________________________________________\n",
            "leaky_re_lu_7 (LeakyReLU)    (None, 24, 24, 128)       0         \n",
            "_________________________________________________________________\n",
            "max_pooling2d_5 (MaxPooling2 (None, 12, 12, 128)       0         \n",
            "_________________________________________________________________\n",
            "flatten_1 (Flatten)          (None, 18432)             0         \n",
            "_________________________________________________________________\n",
            "dense_3 (Dense)              (None, 256)               4718848   \n",
            "_________________________________________________________________\n",
            "leaky_re_lu_8 (LeakyReLU)    (None, 256)               0         \n",
            "_________________________________________________________________\n",
            "dropout_2 (Dropout)          (None, 256)               0         \n",
            "_________________________________________________________________\n",
            "dense_4 (Dense)              (None, 128)               32896     \n",
            "_________________________________________________________________\n",
            "leaky_re_lu_9 (LeakyReLU)    (None, 128)               0         \n",
            "_________________________________________________________________\n",
            "dropout_3 (Dropout)          (None, 128)               0         \n",
            "_________________________________________________________________\n",
            "dense_5 (Dense)              (None, 3)                 387       \n",
            "_________________________________________________________________\n",
            "activation_1 (Activation)    (None, 3)                 0         \n",
            "=================================================================\n",
            "Total params: 4,844,803\n",
            "Trainable params: 4,844,803\n",
            "Non-trainable params: 0\n",
            "_________________________________________________________________\n"
          ],
          "name": "stdout"
        }
      ]
    },
    {
      "cell_type": "markdown",
      "metadata": {
        "id": "vdEPleyz94RH"
      },
      "source": [
        "##4. Training the CNN\n",
        "\n",
        "Train the CNN with a validation split of 1/4 of the image batch size and over 10 epochs. The CNN will be then tested on the hold-out data."
      ]
    },
    {
      "cell_type": "code",
      "metadata": {
        "id": "1ZgEu7HH5Oho",
        "colab": {
          "base_uri": "https://localhost:8080/"
        },
        "outputId": "4297f108-d9bd-4b71-9d53-69ccd5b813e1"
      },
      "source": [
        "BATCH_SIZE = 64\n",
        "NUMBER_OF_EPOCHS = 50\n",
        "\n",
        "history = model.fit(\n",
        "    images_train, labels_train_onehot,\n",
        "    batch_size=BATCH_SIZE,\n",
        "    epochs=NUMBER_OF_EPOCHS, \n",
        "    validation_data=(images_test, labels_test_onehot), \n",
        "    verbose=1)"
      ],
      "execution_count": null,
      "outputs": [
        {
          "output_type": "stream",
          "text": [
            "Epoch 1/50\n",
            "2/2 [==============================] - 0s 171ms/step - loss: 1.0423e-06 - categorical_accuracy: 1.0000 - val_loss: 11.5846 - val_categorical_accuracy: 0.6781\n",
            "Epoch 2/50\n",
            "2/2 [==============================] - 0s 134ms/step - loss: 0.0143 - categorical_accuracy: 0.9872 - val_loss: 12.2555 - val_categorical_accuracy: 0.6752\n",
            "Epoch 3/50\n",
            "2/2 [==============================] - 0s 125ms/step - loss: 1.0209e-06 - categorical_accuracy: 1.0000 - val_loss: 12.8408 - val_categorical_accuracy: 0.6752\n",
            "Epoch 4/50\n",
            "2/2 [==============================] - 0s 134ms/step - loss: 0.0097 - categorical_accuracy: 0.9872 - val_loss: 13.3825 - val_categorical_accuracy: 0.6724\n",
            "Epoch 5/50\n",
            "2/2 [==============================] - 0s 127ms/step - loss: 5.3643e-07 - categorical_accuracy: 1.0000 - val_loss: 13.8571 - val_categorical_accuracy: 0.6695\n",
            "Epoch 6/50\n",
            "2/2 [==============================] - 0s 126ms/step - loss: 2.2925e-08 - categorical_accuracy: 1.0000 - val_loss: 14.2565 - val_categorical_accuracy: 0.6695\n",
            "Epoch 7/50\n",
            "2/2 [==============================] - 0s 123ms/step - loss: 1.3755e-08 - categorical_accuracy: 1.0000 - val_loss: 14.5911 - val_categorical_accuracy: 0.6709\n",
            "Epoch 8/50\n",
            "2/2 [==============================] - 0s 125ms/step - loss: 3.7637e-06 - categorical_accuracy: 1.0000 - val_loss: 14.8710 - val_categorical_accuracy: 0.6709\n",
            "Epoch 9/50\n",
            "2/2 [==============================] - 0s 127ms/step - loss: 2.8653e-06 - categorical_accuracy: 1.0000 - val_loss: 15.1026 - val_categorical_accuracy: 0.6695\n",
            "Epoch 10/50\n",
            "2/2 [==============================] - 0s 132ms/step - loss: 8.1404e-06 - categorical_accuracy: 1.0000 - val_loss: 15.2941 - val_categorical_accuracy: 0.6681\n",
            "Epoch 11/50\n",
            "2/2 [==============================] - 0s 125ms/step - loss: 9.1699e-08 - categorical_accuracy: 1.0000 - val_loss: 15.4510 - val_categorical_accuracy: 0.6709\n",
            "Epoch 12/50\n",
            "2/2 [==============================] - 0s 125ms/step - loss: 9.8115e-07 - categorical_accuracy: 1.0000 - val_loss: 15.5796 - val_categorical_accuracy: 0.6709\n",
            "Epoch 13/50\n",
            "2/2 [==============================] - 0s 129ms/step - loss: 1.5742e-07 - categorical_accuracy: 1.0000 - val_loss: 15.6843 - val_categorical_accuracy: 0.6724\n",
            "Epoch 14/50\n",
            "2/2 [==============================] - 0s 122ms/step - loss: 4.0653e-07 - categorical_accuracy: 1.0000 - val_loss: 15.7699 - val_categorical_accuracy: 0.6709\n",
            "Epoch 15/50\n",
            "2/2 [==============================] - 0s 123ms/step - loss: 1.1921e-07 - categorical_accuracy: 1.0000 - val_loss: 15.8395 - val_categorical_accuracy: 0.6709\n",
            "Epoch 16/50\n",
            "2/2 [==============================] - 0s 128ms/step - loss: 4.1265e-08 - categorical_accuracy: 1.0000 - val_loss: 15.8959 - val_categorical_accuracy: 0.6709\n",
            "Epoch 17/50\n",
            "2/2 [==============================] - 0s 129ms/step - loss: 1.5283e-09 - categorical_accuracy: 1.0000 - val_loss: 15.9415 - val_categorical_accuracy: 0.6709\n",
            "Epoch 18/50\n",
            "2/2 [==============================] - 0s 124ms/step - loss: 0.0000e+00 - categorical_accuracy: 1.0000 - val_loss: 15.9786 - val_categorical_accuracy: 0.6695\n",
            "Epoch 19/50\n",
            "2/2 [==============================] - 0s 123ms/step - loss: 0.0000e+00 - categorical_accuracy: 1.0000 - val_loss: 16.0088 - val_categorical_accuracy: 0.6681\n",
            "Epoch 20/50\n",
            "2/2 [==============================] - 0s 128ms/step - loss: 1.9868e-08 - categorical_accuracy: 1.0000 - val_loss: 16.0332 - val_categorical_accuracy: 0.6681\n",
            "Epoch 21/50\n",
            "2/2 [==============================] - 0s 124ms/step - loss: 1.5283e-09 - categorical_accuracy: 1.0000 - val_loss: 16.0530 - val_categorical_accuracy: 0.6681\n",
            "Epoch 22/50\n",
            "2/2 [==============================] - 0s 127ms/step - loss: 3.7927e-06 - categorical_accuracy: 1.0000 - val_loss: 16.0690 - val_categorical_accuracy: 0.6681\n",
            "Epoch 23/50\n",
            "2/2 [==============================] - 0s 128ms/step - loss: 0.0010 - categorical_accuracy: 1.0000 - val_loss: 16.0950 - val_categorical_accuracy: 0.6681\n",
            "Epoch 24/50\n",
            "2/2 [==============================] - 0s 130ms/step - loss: 1.5283e-09 - categorical_accuracy: 1.0000 - val_loss: 16.1270 - val_categorical_accuracy: 0.6667\n",
            "Epoch 25/50\n",
            "2/2 [==============================] - 0s 128ms/step - loss: 5.5020e-08 - categorical_accuracy: 1.0000 - val_loss: 16.1531 - val_categorical_accuracy: 0.6638\n",
            "Epoch 26/50\n",
            "2/2 [==============================] - 0s 123ms/step - loss: 2.1471e-06 - categorical_accuracy: 1.0000 - val_loss: 16.1747 - val_categorical_accuracy: 0.6624\n",
            "Epoch 27/50\n",
            "2/2 [==============================] - 0s 122ms/step - loss: 5.8049e-06 - categorical_accuracy: 1.0000 - val_loss: 16.1927 - val_categorical_accuracy: 0.6638\n",
            "Epoch 28/50\n",
            "2/2 [==============================] - 0s 125ms/step - loss: 5.2991e-05 - categorical_accuracy: 1.0000 - val_loss: 16.2121 - val_categorical_accuracy: 0.6652\n",
            "Epoch 29/50\n",
            "2/2 [==============================] - 0s 125ms/step - loss: 9.1699e-09 - categorical_accuracy: 1.0000 - val_loss: 16.2281 - val_categorical_accuracy: 0.6638\n",
            "Epoch 30/50\n",
            "2/2 [==============================] - 0s 128ms/step - loss: 1.8340e-08 - categorical_accuracy: 1.0000 - val_loss: 16.2411 - val_categorical_accuracy: 0.6638\n",
            "Epoch 31/50\n",
            "2/2 [==============================] - 0s 136ms/step - loss: 0.0000e+00 - categorical_accuracy: 1.0000 - val_loss: 16.2517 - val_categorical_accuracy: 0.6638\n",
            "Epoch 32/50\n",
            "2/2 [==============================] - 0s 127ms/step - loss: 0.0000e+00 - categorical_accuracy: 1.0000 - val_loss: 16.2603 - val_categorical_accuracy: 0.6638\n",
            "Epoch 33/50\n",
            "2/2 [==============================] - 0s 125ms/step - loss: 3.5151e-08 - categorical_accuracy: 1.0000 - val_loss: 16.2673 - val_categorical_accuracy: 0.6638\n",
            "Epoch 34/50\n",
            "2/2 [==============================] - 0s 132ms/step - loss: 1.2364e-06 - categorical_accuracy: 1.0000 - val_loss: 16.2731 - val_categorical_accuracy: 0.6638\n",
            "Epoch 35/50\n",
            "2/2 [==============================] - 0s 125ms/step - loss: 5.0471e-06 - categorical_accuracy: 1.0000 - val_loss: 16.2778 - val_categorical_accuracy: 0.6638\n",
            "Epoch 36/50\n",
            "2/2 [==============================] - 0s 128ms/step - loss: 2.5887e-06 - categorical_accuracy: 1.0000 - val_loss: 16.2817 - val_categorical_accuracy: 0.6638\n",
            "Epoch 37/50\n",
            "2/2 [==============================] - 0s 127ms/step - loss: 0.0000e+00 - categorical_accuracy: 1.0000 - val_loss: 16.2848 - val_categorical_accuracy: 0.6638\n",
            "Epoch 38/50\n",
            "2/2 [==============================] - 0s 128ms/step - loss: 1.7622e-05 - categorical_accuracy: 1.0000 - val_loss: 16.2904 - val_categorical_accuracy: 0.6638\n",
            "Epoch 39/50\n",
            "2/2 [==============================] - 0s 124ms/step - loss: 8.8643e-08 - categorical_accuracy: 1.0000 - val_loss: 16.2978 - val_categorical_accuracy: 0.6638\n",
            "Epoch 40/50\n",
            "2/2 [==============================] - 0s 124ms/step - loss: 1.5283e-09 - categorical_accuracy: 1.0000 - val_loss: 16.3038 - val_categorical_accuracy: 0.6638\n",
            "Epoch 41/50\n",
            "2/2 [==============================] - 0s 122ms/step - loss: 0.0000e+00 - categorical_accuracy: 1.0000 - val_loss: 16.3086 - val_categorical_accuracy: 0.6638\n",
            "Epoch 42/50\n",
            "2/2 [==============================] - 0s 124ms/step - loss: 1.4654e-05 - categorical_accuracy: 1.0000 - val_loss: 16.3131 - val_categorical_accuracy: 0.6638\n",
            "Epoch 43/50\n",
            "2/2 [==============================] - 0s 126ms/step - loss: 2.4625e-05 - categorical_accuracy: 1.0000 - val_loss: 16.3167 - val_categorical_accuracy: 0.6638\n",
            "Epoch 44/50\n",
            "2/2 [==============================] - 0s 130ms/step - loss: 0.0000e+00 - categorical_accuracy: 1.0000 - val_loss: 16.3196 - val_categorical_accuracy: 0.6638\n",
            "Epoch 45/50\n",
            "2/2 [==============================] - 0s 125ms/step - loss: 5.1657e-07 - categorical_accuracy: 1.0000 - val_loss: 16.3220 - val_categorical_accuracy: 0.6638\n",
            "Epoch 46/50\n",
            "2/2 [==============================] - 0s 132ms/step - loss: 0.0000e+00 - categorical_accuracy: 1.0000 - val_loss: 16.3240 - val_categorical_accuracy: 0.6638\n",
            "Epoch 47/50\n",
            "2/2 [==============================] - 0s 126ms/step - loss: 0.0423 - categorical_accuracy: 0.9872 - val_loss: 17.1190 - val_categorical_accuracy: 0.6610\n",
            "Epoch 48/50\n",
            "2/2 [==============================] - 0s 126ms/step - loss: 1.8507e-06 - categorical_accuracy: 1.0000 - val_loss: 17.8012 - val_categorical_accuracy: 0.6595\n",
            "Epoch 49/50\n",
            "2/2 [==============================] - 0s 132ms/step - loss: 0.0000e+00 - categorical_accuracy: 1.0000 - val_loss: 18.3821 - val_categorical_accuracy: 0.6610\n",
            "Epoch 50/50\n",
            "2/2 [==============================] - 0s 130ms/step - loss: 0.0000e+00 - categorical_accuracy: 1.0000 - val_loss: 18.8685 - val_categorical_accuracy: 0.6638\n"
          ],
          "name": "stdout"
        }
      ]
    },
    {
      "cell_type": "markdown",
      "metadata": {
        "id": "PyAQ7RYXCZ-A"
      },
      "source": [
        "##5. Test the CNN\n",
        "\n",
        "Once the model has been fitted, its precision is assessed through a classical one vs many confusion matrix."
      ]
    },
    {
      "cell_type": "code",
      "metadata": {
        "id": "QeFY2jaroHOL"
      },
      "source": [
        "#labels_predicted = history.model.predict_classes(images_test, verbose=1)\n",
        "labels_predicted = np.argmax(history.model.predict(images_test), axis=-1)"
      ],
      "execution_count": null,
      "outputs": []
    },
    {
      "cell_type": "code",
      "metadata": {
        "id": "ZWzhCphFDTvz",
        "colab": {
          "base_uri": "https://localhost:8080/"
        },
        "outputId": "e8d9c167-c44c-4f59-c559-591748ef5ab1"
      },
      "source": [
        "# for the confusion matrix we need a factorized labels \n",
        "# [1,0,0] -> 0 (\"N\")\n",
        "# [0,1,0] -> 1 (\"IR\") \n",
        "# [0,0,1] -> 2 (\"OR\")\n",
        "\n",
        "labels_test_factorized = [(1*label[0]+2*label[1]+3*label[2])-1 for label in labels_test_onehot]\n",
        "#display(labels_test_factorized)\n",
        "from sklearn.metrics import classification_report\n",
        "print(classification_report(labels_test_factorized, labels_predicted, zero_division=0))"
      ],
      "execution_count": null,
      "outputs": [
        {
          "output_type": "stream",
          "text": [
            "              precision    recall  f1-score   support\n",
            "\n",
            "           0       0.46      0.86      0.60       162\n",
            "           1       0.86      0.81      0.84       189\n",
            "           2       0.78      0.49      0.60       351\n",
            "\n",
            "    accuracy                           0.66       702\n",
            "   macro avg       0.70      0.72      0.68       702\n",
            "weighted avg       0.73      0.66      0.67       702\n",
            "\n"
          ],
          "name": "stdout"
        }
      ]
    },
    {
      "cell_type": "markdown",
      "metadata": {
        "id": "VzNvQ5tmS8ti"
      },
      "source": [
        "## 6. Train and Test loss and accuracy\n",
        "Validation here is part of the test data."
      ]
    },
    {
      "cell_type": "code",
      "metadata": {
        "id": "x-I3WRmv0Eg0",
        "colab": {
          "base_uri": "https://localhost:8080/",
          "height": 591
        },
        "outputId": "4a262ec1-bc77-43f9-b9f0-523a11305d7a"
      },
      "source": [
        "import matplotlib.pyplot as plt\n",
        "\n",
        "# list all data in history\n",
        "print(history.history.keys())\n",
        "\n",
        "# summarize history for accuracy\n",
        "plt.plot(history.history['categorical_accuracy'])\n",
        "plt.plot(history.history['val_categorical_accuracy'])\n",
        "plt.title('model accuracy')\n",
        "plt.ylabel('accuracy')\n",
        "plt.xlabel('epoch')\n",
        "plt.legend(['train', 'test'], loc='upper left')\n",
        "plt.show()\n",
        "\n",
        "# summarize history for loss\n",
        "plt.plot(history.history['loss'])\n",
        "plt.plot(history.history['val_loss'])\n",
        "plt.title('model loss')\n",
        "plt.ylabel('loss')\n",
        "plt.xlabel('epoch')\n",
        "plt.legend(['train', 'test'], loc='upper left')\n",
        "plt.show()"
      ],
      "execution_count": null,
      "outputs": [
        {
          "output_type": "stream",
          "text": [
            "dict_keys(['loss', 'categorical_accuracy', 'val_loss', 'val_categorical_accuracy'])\n"
          ],
          "name": "stdout"
        },
        {
          "output_type": "display_data",
          "data": {
            "image/png": "[encoded data removed]",
            "text/plain": [
              "<Figure size 432x288 with 1 Axes>"
            ]
          },
          "metadata": {
            "tags": []
          }
        },
        {
          "output_type": "display_data",
          "data": {
            "image/png": "[encoded data removed]",
            "text/plain": [
              "<Figure size 432x288 with 1 Axes>"
            ]
          },
          "metadata": {
            "tags": []
          }
        }
      ]
    },
    {
      "cell_type": "markdown",
      "metadata": {
        "id": "fnLk-ievsqaJ"
      },
      "source": [
        "##7. ROC analysis\n",
        "\n",
        "The ROC curves for each class give a complete picture of the classification performance of the CNN. It is convenient to write a function that takes this task."
      ]
    },
    {
      "cell_type": "code",
      "metadata": {
        "id": "Bpj_7PNassoY"
      },
      "source": [
        "def ROC(model, X_test, y_test, n_class):\n",
        "    import seaborn as sns\n",
        "    from sklearn.metrics import roc_curve, roc_auc_score, auc\n",
        "    from sklearn.metrics import confusion_matrix, classification_report\n",
        "    from sklearn.metrics import accuracy_score, balanced_accuracy_score\n",
        "    from sklearn.preprocessing import label_binarize\n",
        "    from itertools import cycle\n",
        "    import matplotlib.pyplot as plt\n",
        "    \n",
        "    \n",
        "    sns.set_style(\"dark\",{\"axes.facecolor\": \".97\"})\n",
        "    # Predict the labels of the test set: y_pred\n",
        "    #y_pred = model.predict_classes(X_test)\n",
        "    y_pred = np.argmax(model.predict(X_test), axis=-1)\n",
        "\n",
        "    # Compute predicted probabilities: y_pred_prob\n",
        "    #y_pred_prob = model.predict_proba(X_test)\n",
        "    y_pred_prob = model.predict(X_test)\n",
        "    y_test_binary = label_binarize(y_test, classes=range(0, n_class))\n",
        "\n",
        "    y_test_normal = y_test_binary[:, 0]\n",
        "    y_prob_normal = y_pred_prob[:, 0]\n",
        "\n",
        "    y_test_inner_race = y_test_binary[:, 1]\n",
        "    y_prob_inner_race = y_pred_prob[:, 1]\n",
        "\n",
        "    y_test_outer_race = y_test_binary[:, 2]\n",
        "    y_prob_outer_race = y_pred_prob[:, 2]\n",
        "    \n",
        "    lw = 1.5\n",
        "    \n",
        "    # Compute and print the confusion matrix and classification report\n",
        "    matrix_c = confusion_matrix(y_test, y_pred)\n",
        "    category_labels = ['N','IR','OR']\n",
        "\n",
        "    matrix = pd.DataFrame(matrix_c)\n",
        "    plt.figure()\n",
        "    sns.heatmap(matrix, annot= True, fmt = \"d\",\n",
        "           xticklabels = category_labels,\n",
        "           yticklabels = category_labels, cmap = \"Blues\", cbar = False)\n",
        "    plt.xticks(rotation = 90)\n",
        "    plt.show()\n",
        "\n",
        "    # Compute accuracy score\n",
        "    print(\"accuracy score: \", accuracy_score(y_test, y_pred))\n",
        "    print(\"Number of correctly Classified Samples: \", accuracy_score(y_test, y_pred, normalize=False))\n",
        "    print(\"balanced accuracy score: \", balanced_accuracy_score(y_test, y_pred))\n",
        "\n",
        "\n",
        "    # Compute ROC curve and ROC area for each class\n",
        "\n",
        "    fpr = dict()\n",
        "    tpr = dict()\n",
        "    thresholds = dict()\n",
        "    roc_auc = dict()\n",
        "\n",
        "    fpr[0], tpr[0], thresholds[0] = roc_curve(y_test_normal, y_prob_normal)\n",
        "    fpr[1], tpr[1], thresholds[1] = roc_curve(y_test_inner_race, y_prob_inner_race)\n",
        "    fpr[2], tpr[2], thresholds[2] = roc_curve(y_test_outer_race, y_prob_outer_race)\n",
        "\n",
        "    for i in range(3):\n",
        "      roc_auc[i] = auc(fpr[i], tpr[i])\n",
        "\n",
        "    # Plot all ROC curves\n",
        "    plt.figure(figsize=(4, 4), dpi=150)\n",
        "\n",
        "    colors = cycle(['black', 'blue', 'red'])\n",
        "    for i, color in zip(range(3), colors):\n",
        "        plot_label=['N','IR','OR']  # \"N\", \"IR\", \"OR\"\n",
        "        plt.plot(fpr[i], tpr[i], color=color, lw=lw,\n",
        "                 label='ROC curve of class {0} (area = {1:0.2f})'\n",
        "                       ''.format(plot_label[i], roc_auc[i]))\n",
        "\n",
        "    plt.plot([0, 1], [0, 1], 'k--', lw=.7)\n",
        "    plt.xlim([0.0, 1.0])\n",
        "    plt.ylim([0.0, 1.05])\n",
        "    plt.xlabel('False Positive Rate')\n",
        "    plt.ylabel('True Positive Rate')\n",
        "    plt.legend(loc=\"lower right\", prop={'size': 8})\n",
        "    plt.show()\n",
        "\n"
      ],
      "execution_count": null,
      "outputs": []
    },
    {
      "cell_type": "markdown",
      "metadata": {
        "id": "2uOHqZT8nyJF"
      },
      "source": [
        "### The curves"
      ]
    },
    {
      "cell_type": "code",
      "metadata": {
        "id": "pPCee5vrtorR",
        "colab": {
          "base_uri": "https://localhost:8080/",
          "height": 870
        },
        "outputId": "449c28cd-3b7c-401b-eb1a-a37c37b0d2cc"
      },
      "source": [
        "ROC(history.model, images_test, labels_test_factorized, 3)"
      ],
      "execution_count": null,
      "outputs": [
        {
          "output_type": "display_data",
          "data": {
            "image/png": "[encoded data removed]",
            "text/plain": [
              "<Figure size 432x288 with 1 Axes>"
            ]
          },
          "metadata": {
            "tags": []
          }
        },
        {
          "output_type": "stream",
          "text": [
            "accuracy score:  0.717948717948718\n",
            "Number of correctly Classified Samples:  504\n",
            "balanced accuracy score:  0.8009541898430786\n"
          ],
          "name": "stdout"
        },
        {
          "output_type": "display_data",
          "data": {
            "image/png": "[encoded data removed]",
            "text/plain": [
              "<Figure size 600x600 with 1 Axes>"
            ]
          },
          "metadata": {
            "tags": []
          }
        }
      ]
    }
  ]
}
